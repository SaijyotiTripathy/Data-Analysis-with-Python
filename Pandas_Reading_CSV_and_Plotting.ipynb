{
  "nbformat": 4,
  "nbformat_minor": 0,
  "metadata": {
    "colab": {
      "name": "Pandas- Reading CSV and Plotting",
      "provenance": [],
      "authorship_tag": "ABX9TyNv5wi6TzRQx+gfTbd6sfD5",
      "include_colab_link": true
    },
    "kernelspec": {
      "name": "python3",
      "display_name": "Python 3"
    },
    "language_info": {
      "name": "python"
    }
  },
  "cells": [
    {
      "cell_type": "markdown",
      "metadata": {
        "id": "view-in-github",
        "colab_type": "text"
      },
      "source": [
        "<a href=\"https://colab.research.google.com/github/SaijyotiTripathy/Data-Analysis-with-Python/blob/main/Pandas_Reading_CSV_and_Plotting.ipynb\" target=\"_parent\"><img src=\"https://colab.research.google.com/assets/colab-badge.svg\" alt=\"Open In Colab\"/></a>"
      ]
    },
    {
      "cell_type": "markdown",
      "metadata": {
        "id": "RsHElSE5vcVd"
      },
      "source": [
        "![pandas.png](data:image/png;base64,iVBORw0KGgoAAAANSUhEUgAABLAAAAHlCAYAAADlWgUsAAAABGdBTUEAALGPC/xhBQAAACBjSFJNAAB6JgAAgIQAAPoAAACA6AAAdTAAAOpgAAA6mAAAF3CculE8AAAABmJLR0QA/wD/AP+gvaeTAABbsklEQVR42u3deZgkVZX//8+JrMrI6gW6KqtAWwRENrUFN0AQtEFAUUG6K1NAviBuOOOMOm6DOjq0Oo6o4zIuv1FwZJM1qxoEFAcQGlAUFGVpZBUQAWmqsqqbXiojszLO749qFBR6qyUiM96v5+F56OrqjLg3bpx778kbNyQAAAAAAAAAAAAAAAAAAAAAAAAAAAAAAAAAAAAAAAAAAAAAAAAAAAAAAAAAAAAAAAAAAAAAAAAAAAAAAAAAAAAAAAAAAAAAAAAAAAAAAAAAAAAAAAAAAAAAAAAAAAAAAAAAAAAAAAAAAAAAAAAAAAAAAAAAAAAAAAAAAAAAAAAAAAAAAAAAAAAAAAAAAAAAAAAAAAAAAAAAAAAAAAAAAAAAAAAAAAAAAAAAAAAAAAAAAAAAAAAAAAAAAAAAAAAAAAAAAAAAAAAAAAAAAAAAAAAAAAAAAAAAAAAAAAAAAAAAAAAAAAAAAAAAAAAAAAAAAAAAAAAAAAAAAAAAAAAAAAAAAAAAAAAAAAAAAAAAAAAAAAAAAAAAAAAAAAAAAAAAAAAAAAAAAAAAAAAAAAAAAAAAAAAAAAAAAAAAAAAAAAAAAAAAAAAAAAAAAAAAAAAAAAAAAAAAAAAAAAAAAAAAAAAAAAAAAAAAAAAAAAAAAAAAAAAAAAAAAAAAAAAAAAAAAAAAAAAAAAAAAAAAAAAAAAAAAAAAAAAAAAAAAAAAAAAAAAAAAAAAAAAAAAAAAAAAAAAAAAAAAAAAAAAAAAAAAAAAAAAAAAAAAAAAAAAAAAAAAAAAAAAAAAAAAAAAAAAAAAAAAAAAAAAAAAAAAAAAAAAAAAAAAAAAAAAAAAAAAAAAAAAAAAAAAAAAAAAAAAAAAAAAAAAAAAAAAAAAAAAAAAAAAAAAAAAAAAAAAAAAAAAAAAAAAAAAU8aoAmBmFQv958jtdak4Gdd3q/WB/+CqAAAAAADSrIMqAGaYW5+k56XjVDSPCwIAAAAASLuAKgAAAAAAAECakcACAAAAAABAqpHAAgAAAAAAQKqRwAIAAAAAAECqkcACAAAAAABAqpHAAgAAAAAAQKqRwAIAAAAAAECqkcACAAAAAABAqpHAAgAAAAAAQKqRwAIAAAAAAECqkcACAAAAAABAqpHAAgAAAAAAQKqRwAIAAAAAAECqkcACAAAAAABAqpHAAgAAAAAAQKqRwAIAAAAAAECqkcACAAAAAABAqnVQBa2pGJa+6bLXpuFczP3can3gy1wVAAAAAAAwHUhgtSiXdjL5nqk4GdN1XBEAAAAAADBdeIQQAAAAAAAAqUYCCwAAAAAAAKlGAgsAAAAAAACpRgILAAAAAAAAqUYCCwAAAAAAAKlGAgsAAAAAAACpRgILAAAAAAAAqUYCCwAAAAAAAKlGAgsAAAAAAACpRgILAAAAAAAAqUYCCwAAAAAAAKlGAgsAAAAAAACpRgILAAAAAAAAqUYCCwAAAAAAAKlGAgsAAAAAAACpRgILAAAAAAAAqUYCCwAAAAAAAKlGAgsAAAAAAACpRgILAAAAAAAAqUYCCwAAAAAAAKlGAgsAAAAAAACpRgILAAAAAAAAqUYCCwAAAAAAAKlGAgsAAAAAAACpRgILAAAAAAAAqUYCCwAAAAAAAKlGAgsAAAAAAACpRgILAAAAAAAAqUYCCwAAAAAAAKlGAgsAAAAAAACpRgILAAAAAAAAqdZBFQAAAADA9Crm+3eX2Z0JHHp1NRrYiisAoNWxAgsAAAAAAACpRgILAAAAAAAAqUYCCwAAAAAAAKlGAgsAAAAAAACpRgILAAAAAAAAqUYCCwAAAAAAAKlGAgsAAAAAAACpRgILAAAAAAAAqUYCCwAAAAAAAKlGAgsAAAAAAACpRgILAAAAAAAAqUYCCwAAAAAAAKlGAgsAAAAAAACpRgILAAAAAAAAqUYCCwAAAAAAAKlGAgsAAAAAAACpRgILAAAAAAAAqUYCCwAAAAAAAKlGAgsAAAAAAACpRgILAAAAAAAAqUYCCwAAAAAAAKlGAgsAAAAAAACpRgILAAAAAAAAqUYCCwAAAAAAAKlGAgsAAAAAAACpRgILAAAAAAAAqdbRjoXq7ex/lQf2zlScjGl1tTbwCZraZly/WUfPj8fH35uW89mqPudLD+qMGlcGAAAAAIBktGUCS2a7SXp/Kk7FNSyJBNZm8Eb9eRYES9JyPqOqf1MSCSwAAAAAABLCI4QAAAAAAABINRJYAAAAAAAASDUSWAAAAAAAAEg1ElgAAAAAAABINRJYAAAAAAAASDUSWAAAAAAAAEg1ElgAAAAAAABINRJYAAAAAAAASDUSWAAAAAAAAEg1ElgAAAAAAABINRJYAAAAAAAASLUOqqA1BbJTY+nKVJyL6RauCIAtV87NK+Sen1NzJ4v9ubGpz0x9cnW4fN76mLdW5qvlwRqZVin2JxTEKyyXu3NobeUx6rCVLOzoDbfdSYp3cYt7za3XTUX9zZdqHmutma8y15ACfyzwzocej1b8UVo2Th1iKm2ncte6vF5gQTxfsvnmtq27dyjQ1pJkUs1jjZlppZvXPNYa8+BP443Oe1fp3FFqcMbZvMLi7TsUvMBjbW3SHJnmuGueAp9rUvOvfUW8WqY1Zr7KA907vG7pn6m+7OnRsVtZZ313D7S13CfaiWuO3OYo8LmKbeVEy9Jquf05zmkodj2yqqaHpEqTGmxvc+ce09sR1efnLHi+TM+T4ufFbttKboFZt7tMsnl/GZ/Io8C0zmNf62ZVcxtWEP85Nr8vn/N7V6y56HFqdfqQwGpRw1HlEmoBQOs5sbO7a3hvi4O9zPVKmV4u+S7y8bwkuUk2MTpYP5Y0/eWPbhP/5xMzSnkgH3cVC6VRxbrTTL+PZcvddfVovXI7dZ28PpXneOgLZdpb0u7u9iLJd3U181p/Tf0p1/tpM1SbaAETl93UVFPFsLchlR6U7Da53+ymm4Oo/sthXbKa2sammK/DZ9ULnfvEcfBam4g/C8bkLzApmGhsksvXxxj9Nf7YX+OQmSRzdYR1Fb1Ulexeye8x81+6a1m1PngXNT01tlO5a13oB5jrVZJepEAvkmt3uWY/7broyX5hfUz5S1+x/pq6SU2pGJZWyXS3Yt0p2V1u8e8KUf36R3XpOmq7PXTnFy0IrOMAKX6xFOwu+Yuk6HlPNpEn28lT28z6ocb6n7mCeOIblWKoulR6QNLv5Xazm24ej3TTE6qMUNOtaEnQnb/1xUHQ8XLz+GUue5lML1e90S2zidjvTx19mvwvAeavAxWTJn5u63/PXHJT4Kbx+C9x5l6X7g2ke+T6TZRv/nL16ouqXIPJI4EFAJhW24RHvTBWc5HLDpZG9lcczP7LCGAquLpl2s+l/UwuM6kYlh6V60qTXdGR15WPrakMcSVmZnBY7LztlbLgEJkOjeX7SerUMwwAt1CnpF0k30WmfpPkYX686OXfKPCr3eJLR8aW3jgVB0L76Av7d3HZW2PZ4ZF8X7k6zZ46FZkEU1HyoqRXu+x4TcSfP8v8GovtJ4W6LX1YlTGuwqbbttC/U1PBwZIfPOb+RpPm/uUyTf7O3lquvSeS6i6TKQrD8aKVbpV0leRXVWvBdVKlzpVokfYyZ9E2zXrHwS4/VKZDJM1/yjddk/34vKTdJO0m80UmqTNUXFT5FpdfY6bLq7Xha1kZnO72MT4eHKrY3ihbfqiU65O7/MmgMj2jha3lepVJr3ry4/P1nBfD/rvk9ksP/BcW6wa+7NjSbrcN9eZLx7rphymp4OHhaKCPprbpip2L91IQ3JSW8xmP8j1T+YhAMSxdIemQNJTNpa+ORAMfo9WlJHYVyq/z2F89M9feHxipD144XZ/f03X0863ZPN7M3+bSHglXbVPS5SY7bTga+gkDzak3r7B4hw7Zu9ztXZK2S/h0HpG01GI/a7gx+JvpK/PRO+bi8aNmqlDVes/XpFMb03bPhuUPmXthRuKP+S0j0eD/TfekpdHo+H8mvVPyBQm2x1UunW+x/aDaqNxEtHiW/m/W0fN9fPxdZnqXSy9IePA+au5L3YJzq7WXLJOWxFM2Bsz37y6zOxMo1epqNLBVu7SXnXVYuDI/a7GbvUfSgYnOaV1VSZco0DnV2oJrprK9/P04sf+9UjAzZQ1ylw2vO//RlownOmJuXAjfFrif4NJ+Sum+3yY94NJlLrt0JNK1JM43DSuwACAlXPEbZfaJGeo2r5c0xQmsJUExv/xwmf2j4vFDZApSsgwmJ+ktLn9LMex9VFY6Y1z2/VW1ygO0usk4sbMnXz3CLHiv3A/x9AwQnyfpAx7YB4ph6XZJpwWRnT6kypopbVTx+J4ynTJThZqvP3/rUWnaElhmfrKk7hmJPm7nSJqWBFZPV3lfi/0j4w291eSdKWiPW5v0PgX+vmKhdLO7fXokqvyU+CFJ5VxvGL/JZe/x5vibZOpIRZ/h6nbZu+X+7mK4/CF56Xsd+eb32dcmeT35/pcEZu8ZdR03sfoxFVmIoqR3yvXOYnj7g+7l0zs6O773+NrzVkzlYXbUCYXVvubUGVtgHDdfL6mlEljFzsV7yYJ/dlO/uc9O+1Ls9cn6D5j8A8VQT5iV/k+xlhbq9iNW7j473kIIANkM/ltP4SQk3xuW3lcMb79Tposlf0OK+5f5cn2qw/2e3rB0Wk/X0c+nNWyuJUGxUD6uJxy5y8wGUn69Xyrpm3HofyoWSqf0zlr83Cm8ibamLWzxhG/K6643LL+5mC/9wmK/QVJJE4+bpm228kqTX14MS8t6usr7ZjmG9OTLRxVDv8Nll0g6Qun9Un17mb4w3sj9qTfs/35fWN6ZG3jmdefLLy2GpYvNbLlL/5Ka5NXfB7cdzfyzzfHGH3vD0mnF/FEvmqpPXjc7os95Fn2d5Zf1FkoXKghulOl4SbNbsBhbuavspvPGQn+smO8/q1joP1haQr7m7+cwAICs8SlJYC0JevKlcjGMf+/SdyXbtYWqoMOl91g8fl9P2P+9vtnl59AqNq5Y6D+4J1x+s9zPMmmnFjr1eXKd5M3ggZ6w/3vbzD5m2ym4iZhMbOkUTzZlK716ukr79YSl61x+mUz7tUgVvM5iv6GYL/2gV0fMzdK17w1Lb+kJ7/itmZ+vib2FWkXeZe+O5XcV86UfziscvSN38gwE7sLRO/aE/d8LzH8n6a0tdOqhS++RNZf3FkoX9oX9u0z2A+PxmD7n7+JJebfesPSTOPDfuaus9tkeaSuZHSe3K4vh8vuL+dKnnjOnzJZE65HAAoBsmtRAqCcsH1IMl99hpgsle2EL10PeZCfG435vMV/+hLSQR+ufQV9n/8uLhfJNcrvSpJe1cFFCk53YHG/c0xuWPiaduOWrdEhgTaLqJl93fbPLzynm+8+yWD836YCWrAjTOz3svK2vUDqg3a95d7780mK+9AuXLjX5ni1clJxMx+Z8/K6esPSVHh27FXf01OvRsVsVw9J3cj5+r8lO1MRWAC0513ZXOZbdUQxL35ynI+dtcdyMG/Q56+2sw8KefOlkl9/q0mFtXtwdZPpCo+EPFfP9p/d2ll+Z9etPAgsAsmmutuCbqt5ZR8/vLZQuNPkVknZvo/qYI/MvFgu9v+jJl19M83jSiZ29hdKSOLAb5b5XGxVsK5e+UgxHbuktlBZu0WTCnInrFvN5k/jHVgxL74/H/S6ZHaeW/8bddoxdV08k0NvRwo5ivnRSYP7rFlohtylCkz5mYXRXsVA6nnt66vSE5UMsjG6X9H61z37NnZI+kAs77ioW+t+xRXErZySwJPV2Ln7FaDj7FjMtkRRmqOgFmZ3ggf+mGJau6C2UX5fVNkACCwCyKden8mbtEdCTL5V9fPy29cu023Rerb3N/JZioXTKpFbntIGJPUdGf+Wuk5XG/YSmxovddXVP2P+9bXXcZu6ZYfMII1tsi+pu2zmLtukJS5dK+o7UVivgOmT+xWJY+k477XfSnV+0oFjo/dX6lx2060TzuXKdWQzLA1up3MOtveXm6/BZxbD03yb/P0nbt2kxt5XbGcWw9NNiV/l5mzU8iVn1WyyUjvcg+Lna6wvULXGIuy/rDUvXd3eV989a4UlgAUBGNbuamzSJ7NURc3sKpfPMdGF6N06dUp1yndQbjl4zJXsltaCesPyhwPxmyV+RgeKayU4cD8d+09dZftkmD6BYgTUZczY3QdwTlt843sgtN+nNbVwv7+8pLP+hVM63/EQzLP9zYLmb5crI4y7e3xn6bcVC+SBu783X27n4FVEY/l7SB9U++xhtyKFq+q3FfHnRps/aLcN9TjlXDEvflutMSV3cMeujjrR/EPv1xbD/g1kqNwksAMiqZm6jg6G+sH8XD/O/NNfR2RsY+Gua442bs7XfwMKOYlj6tsm/ofZddfVsdo8D/2VPofzuTWofHswjiGy5uXNXb/Jqgt6w/HGTXyap7TexNdcxxdDPb92VWAs7imHpm5J/S1I+Y836eXK/opgvnaRsJGGmRE++XPIguF7SDpkquKko88FiWPrvTUroZ3bfxXKumPczJf0Td8uztY3gT1kqLgksAMiq3Ib3oekJy2+MZb+R9JIM19LzPPBrN+tb0pZNKBzT2xP2/Szjg8SCuX9/YkKxkQSC+1xhyyu6Pj5v4791YmcxXzrT5V9W627ivCUW9YTLv9x6MWRRsRj2XSHpA1nuWWU6pVjo/+HOOizkTt8g6y2Ulpj5hZJmZbUOJH2wGI7+pFvlDSeoMpnAKueLoVdkOpbb5dlbRj3suD5LBSaBBQBZ7fE2sJ9CsdD/DpNfIonHpKTZMh8o5kv/2q4F7A3Lu4X1xk0mfy2XW5qYUNxx4Y46obCBaQcb6k4q/sTzNvT3O+uwsBiOXCBTJjfINumjxbD8j60TQ47aNV8PbpT8QFq3JLe3j4azf9KrI0h0P8v93VsoXbB+j0VWq8kPzoV+Xe+so+c/66Q9e4+tWzH0cyQton1soOXIblu9+rzhLJWZBBYAZFTuWb7N6wn7Pyy305W9R8g23F+avtSObwrrC8s7u/xql17AZX7asLB/dbjmp30qz3mWXyCBNZnazT37Ru7b6rjZo+HsnzJx8f/u6Srvm/az3CY86oWu5tWSvZCW/TQHeSF/zdy5i4pUxVOd2Dkazr6wrV8IsyV3u7SHN8dv6AvLO9PnSL2F0smSSrSMDTPFy7I3IAcAZNMzbAjaUyi9x2RfFd+IPstIwb/YTkms7q7y9rHiKyXN5+I+o9d56Jc/SxJrHtUziclabN3P/DflfDMcq0haSC2p02I/fTuVU7tpcXdXefumxq+S9Dwu1zM1dL2ys567amu9vZvKkKRyrqcwcpakI6iLZ7RDrPjqbQv9O/19U8rOvovFfHmRu/6d5rApMSa4NnPTF646AGR1Avn0PbB6Cv3vMtepInm1YeZf7AnLH2r1YnR3lbcP4vhayXbkom5o/qn949CXPv3NcOWcpNnUzqRGoM+wmmBJ0FvwH7p0GBX0F7utC/3zaY0hudiXEUM20mVIL+sMG5fO1+Gzsl0T5VxvIT4niy+F2cwW8/ym21U9XYu3+5veKBOPEPbNLj9Hgf8vY9FNEmdt/6uJ4QMAIKMTyL8OhoqF0uvN7bsMGDZ1QuJfLxbKJ7Tq+c+du6gYxPHVTDw32SHFvJ/65B+2VudW3CuTDT9/v4KtWFj+eR4reqZ4o3/p6Vr86vTFEP8Zjx5vGpe/JgrDM6WOzMaNYt5Pc7ejaA2b0l70AsXBpU9b/ZuRfRfjcf+OXKxY3LR2krn9ryQSWACQ5Z5v64lBZf/ukipiz6vNm1O6f7fY1b9P6536wo58PXcB+9Vs9hV/RzFf/jdJskLM/leTDT/29BWgxXx5kVyfpGaeUS6Ic/+Vvhiinbk0m6Uka34uiwXvCfs/LNM7aQKb0+XoZR76hetX/GbiLYQ9+f5+SYu5+ps8EL02i+UmgQUAmZ1BausddULBzC7g264tEiq2i4td5Zba+6U37P2ypNdz+bZktOif6wlLh6oZkcCadPyxeU/+b19Y3lnmZ4lVbRsI1/6a7rCUikcriSGTkrlNqYuF8kEm+zKXfkvuex3WW/DPrP9jm/c75ZyZfYGrvlkNZFkWi00CCwAyOxm3rZ4I13zDpT2ojC32HDW9srMOC1vhZHvzpWNd+jCXbcvHTSadHVjH7lTFpAfe8yb+Z0nQlP5X0hwqZaON7/NKOMlHDMHmmFdYvIPcz5fUQW1sYah0faZYKL1ebZ7AKhb0dkm7pey0xiU97tL9LrtVrhtddp1kv3XpfklDksYSOre4HsbXZ/GeIJi0ajC7US9IzbPQ4xqy/fQIVwVoOa8z3qQ2eaZ9R8NZ/6VIH0jzaXbn+/dw02lcsEnbJjD/tlMPkxvH2ETsKeaXf1zSa6mRTak0vbI3LB8+HFUuSSQZ0bloT2IINtXOOiwc9eAiSX3UxqQEcp0lqat9i7gkkN/+6YTz8zXJrpX71ZLuNrO7hqPu+6VTGxv7h8+ZU+4bj7S9W/x8t2AHKX6xmb1MrgWSpuXlDS67ffXqi6pZvCFIYLVuKPuWXG9Oxbl06luSPshFAVrOvASO+YSkx2VaJdcayRoybS33WevPZ75a8jEi+6feQmlwuDawLJ3nt7AjsOB0yVt1AFxz6dFAWuNu62S+bqLdaI4mVu7M6GOcLvUSPiY7jLF5PV2Lt1Osz1Abm9X6/lHSJUnEkFyQO72FJ9HjkkZdWi3pCTM15Zot+WzJusUKwCm3sjD73+R6eQsXYfX6Mcs6mZ54SnuZm8D4aX47t5ViYfmBcts1ofHb/5n0/+Wiws9W6Oy1W/IJj62pDGliNdbNT/+bcq6Yj3fxwPa12A+U2YGStpuSs1a8LKuxhQQWAGCaxgQaketaSdeY2W2W091DayuPbXiEdvisdZ0duwTWsbtZvL9kB0l6cSuU1t2/P1+H7/GoLl2XusFhvu9jkr+iRVrOGpOul+yaWLoltuY9K2t7/ElaEm+o3TQ6C7s2TbuZ+WskPdlu2FMppVw+Tx58WdJsamNz6k1v2CY86oWPRxf8YWZjSO+/Si2TjIgk/cpd15j8Vqnj7mo9/oNUqT/bP3jOnHJf1NRu5trNYn+NzA/kLa1bbl7noj3d9YkWurPucdk1Mt0os7saHeP3bGh1S4+O3SrorO0q0y4y2yuWDrSJ7RjYnmdLxP4O2Yx318sU+CeqYwM3Tt8hKs1qXXdJukvS6dLEno+x9EbJ+yUdICm3hZ3Bsqw2FxJYAICpYxqV+/ke+FkjY3vctKGkwzN5VJeuU0O3SrpV0gWS1Dtr8XPjZnCUpHeY9LIUF/6F9TD/eUX6aJrOqpjv313mJ6e85ayVa1CBn12tVZdJy8af/tdLN6Xd3CLplifbzTazj9m2Od54m0zHy/Uqbs7U2dl8xpLTTckflOwPZloVu1ZK7uYWyjRXrufItINaYwWoNa35bkmfmrkYctSLZM1/T3m9RJIuNflZ+aj+s839IuEpKyh+rok92bRtoX+n8diOkul4Sex7t8kWduSCjh9InvY3G/9O8jM88KUjY0sf3px/OKJznlBDv5H0G0nnSdLcuYuK+UbwFnnwDslfJ5JZm6RXR8x1s/4ZPKTLdEq1Zp+RBpozXd6hqHKfpG9L+vZz5pT7xsfjI93t7ZJetxn9T9yoB9dltc2QwAIATIW7ZfrP7traC+7T5dGmJB021fC6pX+W9A1J3+jrLL/Mc/En3K2cxsGhyz7U07W4MjK29FfpOKMlgbT8fyUV0tls/E+SvhREwZlDqqyZyk9+fO15KyR9S9K3uvOLFgTKnSTTMdrSbzsx1abzxQeRpOvkukoeXzO3sdXtD+qM2sb+0TwdOS8IO/cyiw+Sa7GU1CMtGw00J0hLPr25XxBMMoak9UUVj5vsv+qR/vcJVUam8oNX1Abvl/RFSV/s6Srva7H+VfK3ipWdG1TM9348xSt+x+U6N5Z/dbQ+eNtUfvD6FVtnSjpzXmHxDoEHHzDpH8Qq0430BPnXaZr2iXqm6Onm7xmpDf4gDUVfnzg/TdJpveFRu8Yaf4/J3iFpm42MNW+f6njXSkhgAQAmMxZ40Dz4t+G6LpAqzeneTXKoUblFDR3dky9/zsw/L2lxyiokZ577pqR9JCW+z3excPtxctsvhQ1nhcmXDEfBDzb0WM9UGa1ftFzScb3hUZ93Gz9ZE992ot2YbpLbGeNR5/mrdO7okz/e1Li0UhevVKQrJV0p6ZMTSQv/mKQjla6E+XN7um7be2RM054o7ync8U659k3htR5x9/8oRPXvzcRj2yNjlV9KWjSvc9GeuaDj85Ifzg33DO0lvfvauVxn5Sz3+cfr0//47cra0j9K+ti2cxZ9udEIPmayDyq9SeCkHTSDx/peWpJXf2s4uuAeSf8qlT9dLPjRcp2kZ9lCI8v7X0ksbQQAbJnY5acGUfDS4XrlXKkyo8uwR+qV31ejgX6TvUXSQ+kaJvtexXxpUfInUs67W+oe+zFTpZ7vXDAcDX53JpJXfztArNYGjzWzhZLfw23cHkz2C5MfUa0N7FONKv/z1OTVZJMW1Wig3+J4L8l+m6oye3D4TMSQwP3fUnjJL5PZHiPR4Ndnes/BlY2Lbq1GlSNMfsT6FaR42sjAPqP0bfR/n8wOrtYHTpjpveNWrLno8ZFo8F8D2QLJrqGBPEOTkQ6coUM9MR7lP5X+GqnUq7WBs6rRgpfKbbHMfv3348zs7n8lkcACAGy+hxTbviPR4Pum+rGvzU9IVH7sUfhSt4k9KFI0u/wPqZzoo2rF0N9n0k7pSTJo2KU3DNcG3rZ69XnDibabWuXaMKq/3CeW7qNVmW5SbPsMR5X9h6PBS6etvTSW/rY7WrOfXGempuxuR0z3IXpCf79LL0jR9R412Vur0cDh1bHKI8n2PYOXxlHwUjedz404oS/s38Vk70xXiPCvdUdrF1RrlauTPI+hqHJfNXrJwS59WFKD1vKkct6kBTMSMuXnT9WXGzNjSVytVy6q1ip7y22xpHvX/0Wm97+SSGABADZrAGDX5To69642Kjel5ZxGdM4TI7WBt5vZ+9IzMLQXFQvx/0vq6NvquNmawU2eN95udEvDbO+RaOCKtJzTo7p03Ug0cKJM75A0xt3dUla66V3V2sCrZyoW3afLo2p94ASZ/iMld9WCeYWjd5y2ZITKc0ypeovcXYp9v+GocklaTmhUlVUjtYFj0tX3JKdp9jlJadm4vSbzE4ajwY/+dV/O5BMSI9HAN+IgPlDSnwnjUk9eO2umtjTy4OpWradqvXJRNep5ieQfkrQsy/tfSSSwAACbnoU4cyQaev36zbFTZ7hWOTWW3pqaZIRriVTOJ3Ho8fzYByU9JyWX5rJZke23qlZ5IJUDw9rAWYHpDZKe4CZvCcviwPYcqQ2crgT2mavWBj4j6btpqIicGvtPWzIi7x+WtG1KrvkVQWR7VeuDd6W173HZEcpwInxe56I9zfW2lJzOUBD7ftXa4JlprKvRsaW/8CDeW/I7sx7MTfHMvSgj1/xja9fWqY1qNPjNarTgkKy3GxJYAICNc/2gWl/wLmnZeJpPczQauNzMDpO0JvmzsR17816e+eOW8zJ9KB3Nxn7SHa0tPaxKqid2Q7WB6y22g2Qa5WZPcRQy/Wc1WvD60bFKovveVaPhDzzjviQzXiP26un42J11WGimD6Rkivt/XZEdmfTj6hszElV+Glj8xnT0PTMvZ7mPp2Re+Xjs9vqhxuDvUt1expY+3NEZL5R0e6ajumn7metAco+2R6XNxNtn040EFgBgI72+n12tL3hvq3Saw7XKtTJfpDQ80mH2jzN9yN68L1YKVk647CcjkRal5/GNjbSbRuVmmR8maR03fepEMntHtTbwb+mIQ8vGzXWckl5xY9pnOj52tDDnbZL6UnDdr+iO1rw17QnwJw3Vll5nFh8hKcrSzTl37jG9MpWSH6uo6m4HjtYrLZEUWrHmosc7OpsHS7pLWeXB3Jk6VEcc8xbINkECCwCwoQHhDd31de9ttW98qrXBq9z0vuSrz1/T27n4FTN5zNj0/hQ0nDs90ttn+i2Dk243Y4M3aiIx4dz8qRGZrL9aq5ydppMajip3u/SdhAPMntupPPVvfIv9H1NQxXc3o/GjWiUB/pd2UVt6jUwnZukGzUeNd0tKOjnQUGBvG6lXft9KdbdizUWPj5u9yaRhZVEQz5mpQzUVvJDutE2aDVUAAHgWD+U6Oxe32gTiSev3yPn/kj6POAhmbDJTzB/1IpP2T7TAppFAwRGjqqxqxXZTrQ8stdRs1J15YzJ/y3BU+XEaT66Rb56iZPdO6xzrbE7pG7zmdS7aU6Z9E44ho4H88JW6eGVLxpDawFkmfSMj96jJ9J4UnMaHkn7T4JZaVas84ObHSBpX1ri6Zq6h+oF0qe2BBBYA4JnEgen/pXXD9k2eSETDH5Lst8mO7nVst8pbz8zBmv80ccgkW47eOxRV7mvldjNcW7DEZdcRBhJuSa5jqrXBq9J6gqtXX1SVlOjKMLPcLlP5ebkg9w8puPLvGYoG723pGBINf1ym37T7TdoTlt8gaeckz8FN51ejyv+09FilNniVmf9n5qK8WW0Gj/b/dtQJBbrW1kcCCwDwTEPCbw3VBq5v/XIsG7e4+V4l+83mnKCgRdN/mIUdMh2T8ETivGp9YGnrt5slcU7xe8R+WMnNa2SfqNYHfpT284zdT030+PIpTGCV81KyMcTML2iPGLJsPI6b75RUb+8b1d+R8BmsaHR2fqAdqnK4FnzBpNsyNdKMZ3Qfwfmr82s+Qu/a+khgAQCePqCQ7g+j+qfapTzDjaW/lenLyVaqHzndhygW+l4rV0+CpXy80dn5wXZpN0PR4L0u+wwRIYE5senC4ajylVY419H64G1JTjot8Cl7DX1PGB8oaeskb7uOjuAD7dKOR+sXLZfr8+17p5bz5npTsl2r/9Pq1ee1yf5Rlbri+J3K0qOE5jP7CLZpSV+hdAC9bGsjgQUA+NsR4Scf1aVttfKko9b1n5IeS/AUDt1Wx82e5ut2ZMIN53PtM5GYMBJ1f0vSfQSFGfVIvWb/2Eon7KbLEhzKT9kKLJMlHEPsc4+tqQy1U2OeW5/zX5L/qR1v1O7QXy9pq8TuO9l1I/XBwXaq0+HG0t+a/MzsjDeDmb43OmPXpX2Fxa+lq21dJLAAAE8dEN46Un/pQLuVa4XOXispyf0lusbzYwdP89U7PMGW82B3tO777XdHnNowt5OJDDMag97zhCojrXTOsdnlyVWYbzdFn2SS3pJsDFlzWru15wd1Rs3NPteO96pJb014FvuJtoyBQXCyNKOP1iXXhrz5xwQOu3XswdW9hdISaQm5kBbERQMAPGXy6J+UlsTtWLZqZN+T9McET2HaBvt9nf0vl2zH5Eahwb+36tsqN2a4/pLzs7YvSYLTmUtHospPW+2sR8e6b5RUS+jwvZqCFzcUO8t7SdouuUtvJ7drDBmpDZ8h+T3tdrOalOCXJvrRyFjll205VhmrPGLSd7MQ8ccbhfskeQKHzrnr5GJ4x1W9nf2vou9tLSSwAADr+Z2j0cBP27d8lbrJvpPccF9v0TS9IbBpdkSCFfvnaq37/PZtN0vi2PQN4sO0a7rHn2zNUz+1IbPbEzp45zwdOfl9q3JxkjHk0Wqt57z2bdrLxiV9s51KVOxc/CpJ8xObwJq+2tbBMLBvSGq2e9BfpXNHlehj+n6gB3ZTMSwPdOf796Abbg0ksAAAE924gu8pmW/CZkyUH/+Bklsp0dcblnedjg82s/2TqlMzfV86tdHO7WZWzc6XaYQoMa0B6PyR+uAdrXv+8W+SOnRHGG4z6dP3ILGNjc287WOIRY2zJK1um9s1SK7PkfT7odrAz9u5vYyOVR6S7CcZif03Jn17St4fmN1aLJR+01son9in8hw65fQigQUAkKSx8Uhnt3shV6++qCr3SmLjNPN9pmnwldQS+Oa44v9t93bzsCpj5jqTMDGtN0eLr1CxO5M6cjNo9E3uE8o5k78iuRjiP2j35j2sS1a71DYrVQPTPgke/jtq8y/bJCmW/08mQn+ga9NzMnqlu38vDv2R3kL/+b350tHdKm8tpCv+UAUAADNd1mobJ2/5PDlILlHnUz/oL+b7d5M0L6ESXbuytvSPmbhHYj+bSDFt98WN1UblppZuH7L7k2ubwaTecNqdj18iKakVB1dnJYZ4YGe1UUe6d0JHboxH+fOy0F5GowX/J2lFu5ezI9d5qaS07b26lbsd5abzgtAfL4blK4v50knFzsV7SeUcnXaySGABAOTyS7JS1pGoe5mklQlNNV899T158OoEW86PstJuhhqDv1OyLwFo3/hjdmGrlyF2PZDgYD4/mX+fI4bMiNGxl9ygNkhIbDtn0TYuvSChw1+3ft+kDFgSm/yydi/l42vPW2HSDSk+xbzkB8t0ioLgpmLow8WwdHFP2P/hYmd5b2lhB734jPd5AICMa9Y748uzU9xTG2a6IqHJ2kvn6/BZU/uRntijHOMWXJqtW8V/Iky5nOKWb0dBPfpTUseO3QqTatVxcjGkaZ0/zk5LXxLL1fIvSmk2OpJMeF6iDHG3TPSxsbXUI/rzJL3VZF9T4DcWw96VxbB8dW+h/7O9hcUHSid20qtPc39LFQBAtrl0w+rVF1UzVuakJk2dUWdhwRQX5uUJleWOVbXKA1lqN4F0mTDV7huKBu9t9UIM65LVkurJtEsPJxVCTInsf+WyW1fWzn8wW32PtXwMid2T6nOUU8ePs9ReOupdV0mK2r2cs2p2jlytOg6dLfmB7vbv7sHVxXBkZTEsX9kTlj/U03X08+nip2UsBgDIMrNUL92ens7P7Ybk6tt3mtoP1E5JlMPlv8hau2lEzRuUgc2DZzj+/K6NipPIPoJxMLlHCC2hx8EsgzEk6Gi2fJlN/sKEDv3Y49EFf8hSe1mhs9fKdGu7l/NhVcbc2uZlDrMkP9jk37B4/KFioXRjT9j/4WJX+Xn0+FMUR6kCAMg2j/3XWSvzUFT5Q1Lf9rlsx6n6rG113GxJfYlUolnm2s1KXbxS0n1EjamMP7qljYqTSAIrkG/xHixbqdwjKZm3bGUwhgyvW/pnSY+09D1rU9eHbaYbsxkk/aYsFDPfGXxF0hPtd/20t8m+ptgfKoala3oL/e/tU3mOMIk+DwCQ7QlkLvh1Fosts98kM/j3KRv81/NrktpIV3Gz+ets3jC6SZjC6tS9bVMY07rWmzQmthm3PI6zGUPU2om7pFbsyS2b7SUjid7H1lSG5PpSGxcxkLTQ3U6NQ3+0J+z/Xne+/FJGAVtWkQCArDKNjI5VHspm2ePfJVPlUzf4z1lux4Rqr7Gy0ff7bM4l2uqRt+TrM/D2eaNYrEbLnbLFScWQ2kg9uCuLbd69lWNIOS/puYlMWhPqsxO/R2PLTLm76vZ1ybPwmOhck50YmN9aDEs/Kxb6D2Y0sBmxgCoAgAxzezCzE+fEyj51K7A8sb1r9LB0aiOL7SZ2z+w9My1tqamV7VOY1ttsOTBLagXWH6VKM5NtPmjdGNIXantJuWRir+7PYnvpqCszL0t5WJUxD+x4SVmJDSbpILldWcyXbugN+w9nVLAJ/RZVAACZ9lBWCx7L/pjQeGW7KRz6JLIpqEt/zGq7CTy7ZZ8OTYtrbVSceguec1IbC2f2PrLE+p4piP3m2yV16LBez+R4ZUiVNS38hr7NNjI2cIOkr2YwMOzrskuK+dIvejv7X8XoYAPjMKoAALLLlN3VJOZBUpOILmnJ1PS/rmQ2As1wEqcjDEhg4VmjSguedCIxJMtJ8HHlWrfs7nMTOvLQo7p0XVbbjCxbXzZWo55PS3ZVRq/1fh7YTcV8/1nbzD5mW/rVv0cCCwCyPeF6NKsl93pHUm+Csj7dMWuKZoGzEilB0Npv0ZqMx9ZUhtSaK22Avw8h5snEEM9uDFlZa7Zsvxt7MCuhQz+S7TvVHs5WeU9tjEedb5N0d1YvuMyOa4437ioWSsfTUz1dB1XQqj2IviapkpJb7E4uCNCikxf52qyWfUT1tcWEjh3MGZ+lNVoz6fAbaLYnseYj1tpM3zimtXLliSBo/U7AZicSAy3LMaRSl0p1qQVjSBDPllsCY5XJ95etfZv62pZc3zkJq3TuaJ/Kb4nly5Tco85JmyfXmcWwdHg93/yH1asvqgoksFp27LyPrqYWAEw+mFh2l+Sr0pRKkaRwpo9cG++YkkmjJ7QCy83Hsj3p1zpJ3QQQtEEnMFvyBG4hrct4xa9TCyawzINZSbQXk2W6vVisdbLslXsoqtzXF5YXxvKfSdo+w02glK/n9uvpKpXX7xGWaTxCCABZnofHynYiwpKZRAXx+FStekgkgRVkfDIhJt9om04goUcIjRjSou1ldkIHznZ7seyWfyiq3DdutlDyP2Q8Zsy3WFcXC+Xjst5tkcACgCyPieS1TFeAJ5PAC9y6puj8C4lUm2W73ZgynvhFGzVmSySGWJzxvketuYrVlVSfo0y3F894n7OqVnmgEQV7Z3Zj978K5X5WsVD6QpYrgUcIkb6xVJB7wuXXpuV88mo0uCpo40FRPuMVECaxLD+23NQMxi2ZzcQt4+3GE3jsFJimxlxPIgZ6kPU95KwlY4gl9AILc3VmurW0aHuZSk+oMqJo4WG9Ye+XXfqXieaY2bj9qd6wvzAcDX40i8UngYXUGY4qd0taSE0AMzAoCnxWtisgmUfw8kE8JRsYu2ydJbF/jasr23eOz8ry2BntFAOTeTTJnL5HLbgpt1tCfY6y3eeYNMsFadn4cKSPdIelKwPpNGV3c3e57CM9YclHooGPZa3sPEIIAJmehwcZnkQsCZTU4xC5/JQksAJL6C2SmW43ktyyXX6009Q4kRgSK+sxRK1Z/oT6HFO2Y66b0+c8xWg0cHkzGl8g11mZjt7SR3vC8keyVm4SWACQ6c4vu4OibfWHLiW0jCZeu3ZKVj14nNBkgpV7TCbQHk3ZYlZgzbhyTi36GHIQJ/WliWf9S5PZwtOs1MUrq/WBd3gQ7ytXZt/MZ/Kv9IblN2epzCSwACDDYuk5mR0PhvXEyj6scGomjQm9ySv27LabHh27lZT1RyjRNnEwTuhtgObbZrXOe2fltlWLPoPsor0kVPHPEZ7RyNjSX1XrCw6Q2fGSHspgFQQu/2F3V3n7zBSYZg8A2WXSjlkte9PiHRI69JhUaU7NmDapxzm0Q1bbjedrmb1n0JadwJqEDpzZ+yj2ZuvGzyChFViy7davXMvqfZrZPnfTLImrtcrZ1ahnZ5neIemOjFXAvCD205WRzTlJYAFAticv22e16K44oQmUPzqFH/bnhKovs+0mZ0FmJ95oy0D4WDJdT3ZjSND0lk1GxHH8WEKH7ujpys3PYnvZUScUJGV7BdomO7VRrQ2cVY0GXmqyt0r6maQ4I4U/qKdQflcmYigNHQAyPXnJ7GQ8kCU0gbIHp+yTXA8kVH3bK6Ov4XM534SjbZj8gWTuo+z2Pd7CK1g76h0PJldvzUzG3jXhWGb728k0l+Gockk1GjjYg3gHuT7h0v1tP651P6VXR8xt//E7ACDLtumdtfi5mRzduO2ZzIRx6pJOgQdJTSZm9YX9O2dzwq89CBtoF3EusRiy1bzC4kwmJDzQnq167kOqrJE0lMikNfZMxt7Ym3sKW2xkbOnD1frAl0aiBbuY2UKTvt6uySyXej0ffrDdrykJLADIuqa9KpsF970TOapP3Qqs8UZiK7Dkbntn9I7JarnRjhMBaz6Y2LHj3F5ZrHNzb+0YYpZMm3HPZHuRZbTcU25JPFyrXDscDXxkJBp4Yey2h9w+LelaSbU2ai8f61N5Tlv3WzRmAMg4s8wNjnq6Fm8nKZH9NKZyBdaoKqskrUxkLpHBQfV8HT7LpRcTNNAuhtctfUxSIm+WswzGkK1U7pFsp5YeMsgfZKwyk/VtfGkyDUbrldur9coXqtHAwrnRnG4zW+iuJZJdI2mshYs2r1mI39bO166D5gsA2eauV2eu0E3bJ6kdJeLcVA/+7X7JXzHzDSfYJ2vNpl4o7CV3xk5oqy5A8j9K9qKZP7Blru/Jhb6PWnw/owQfv9q9R8duNaJznshOizmxUxp5hTCtHtQZNdV0rSZWY0la2NHb2benmx8s0/6S9pc0r1XKE3jwLkk/aNfrxQosAMBrs7Dp41OZ7E0JHbqZG7PbpnY24bcmU4m+9zazj8nUm5Hc/U0C2q1dmyUSQ0y+79Z6e3eW6jpQ68cQi6e4D9t0OeWjN2SpvRQLI6+VlKnxWTosGx9uVG6u1ge+VI0GDq9Gw30e6DVm/jmZblLK32zo8tf0dB39/PaNowCArAvjfOeh2SnukkCmRCYRJt2xfhPcqftM041JjSGazfHDMnavHEG4QNvxxGJIZ2c+emOWqtpkb271MuSC+FfJ1V/GYrD74QSoNFg2PjI2cMNwbfDkam1gn3q+c1tzHWPmFyihR7A33nbGD27Xq0ECCwAgk2VmkNTTddvekp6TxLFj+ZQP/MfjZmKTiSwNrrcJj3qhpN2JFmi/2YAllcBSHGSn7+nO9+/h0gtavRwraoP3S3o8oZnrm6SFGXqMu/UTnu1o9erzhofrA+cP1waP7oi6tjHXMZJdLKmennG9k8ACALTzGElvna/DZ2WiqLEdndzBg5um+iNXNkbvkLQ2oRK9MSuPAI178+0ECrSjrcZm/y6piZe53pKVR9iDIMG+Z4q59OuEDtzTFxYzsWK82FneW9LORKh0W6Gz1w7XB86vRpVFuY7O7c30WZlGUnCTvrxtYynNDgAgaV6tkD+63Qu5ncpdMjs+sROIp+PRi2Xjkn6TUIlm5cLG8e1/e5RzZno3YQLt6EGdUVNC+2BJmquw89gMxJC8XO9qm+Ik99ipYtn7MnFjmr+f6NRaHl973orh2sASq9V3lOskSasSbEAvnHgJQPvhTTotqrdQfp1iPS8lndjdw43KzVwVoMXHSgr+QW381hJJWlfQ282V1IqhlSP14K5pGuj+Um6vS6bdxO+T9E1J3q7tppiPD5dsB6IE2pb7LyXtlcSh44m+57ttPW7Px/0ua5uXXljgv5Qn9jLFN3d3lbcfHas81K7tZSuVe2T+NgJTaxrWJatV15f7ZpfPisf9NElvSeA08n1hdcehSPe2W/2SwGpRsfvHzZSO56JN35JEAgto/QnMXj1dpf1GxgZuaNMSmlwfSKx6TZdLlea09AnmlwVun0ioWl/UE5YOGYkGrmjbe8OCD7Zxfg6QSz826YMJBeY9ewvl1w3XKte2b/22Vwzprq27fjSc/YSkrRI4fC6I/Z8kndSu7aUzrxMldRGZWtvQ2spjko7oLZROdtfJM54vCNTTjvXKI4QAgKf0dvbFdi1aT778NpPvmVzd+sXT9dGjY3v8UtJjSRXNTF+QZO3YboqF/oMlP5DggHY2EvVcI2llYifg+kK71m1v2H+4zF/dTmW6T5dHZn55gqfwgWJX+Xnt2F66Vd5a8o8RldqGD9cGlpj55xKIq225vyAJLADAX5j8tT1h+ZD2K1k5ZxafnOAJRKoXfjp9H78kNvmPE5x8vqon37+4LW+KOPg8kQHt79TGxCrRpEKIv6Y3LLfhG9eWBLHsc23ZZGL9KMGjdyn2T7Xl5LwQf1ymIjGpvQzXBpdIunpGx/Tenqv4SGABAP52KvHldntNdTH090n2ouTOwJaN6JwnpvkgSU4mZGZf2FEnFNqp3fTmS0e328oJ4FnFlmgMcekUqZxvq76ncMfxJr2sHZvLeL15uaRGgqfw3mL+qBe1U532dB39fLl9iGDUnoPrILaPzugBzda1Y0WyBxZSZ0X+K3vEzeaP0nI++WZtz6KWPMGVQVaY9LJivu+kar09HumYV1i8g1ynJFun8cXTXs5o3RWj4ezVUmJLxndbXVh9smr6ZDu0m7lzj+n1euMbRARkRa6uH8ehIklhQvO7Bb0FfWq4piXtUJ+9sxY/12P/aru2l5W6eGVRpWWSklq13Sk1T5fKr5mu/SVnWhCPf8+lOUSj9jTUqNxSLJR/LfeZeWGG+Zp2rEdWYCF1Yh8PZdoxLf+tUZjjqiBzzP+9O79oQTuUJOe570mJ7gMQ5TrjpdN9kPt0eSTXRYnWttvHip2L92qHWyBs1L8taVuCATIzuVJljWSXJRpCXJ+a17loz3aoT28G35W35ybKf+1h7dxkj699ekP/cDtUZU+h/10uHUYkam/uPmMvq/CmSGABADIjn7PcOX0qt/Q3gT1h+cOSvyHh0cqFK9Zc9PiMHCoX/0/CVd6hwH44T0fOa+V2UyyUT3C3owgDyBzzpGNIZy7IndOrI1p68+FiWP5HSUe0e3PpqukCmUYS7WKlz/d29r+qpdtL/qgXmdvXCUAZCLGy+2fqWHHACiwAQIa4tEcc6mxpSUv2FT1h+RCTfynxesz5/zdTxxoZW/ormW5OeHi2ay7suLBV91Hr6SrvK/fvEgGQRdXawNWS7k74NF6iMH+BVG7JFfDdXeX9Jf9GFtrLw6qMmfsZCZ9GwQO7pFXfSri13t4ta/5I0lYZDTvWbvuubri0vnaGjtRcWcv9uR2rkAQWAGAD/MjewvIlrXbWxXz/7mZ+gRLe69GlW0bGlv5qZkeC/r0UXIJDimHxv1pw4rm9xT6oxPYAApIP+i4lnsB16bBiwVtuH8ZtwqNeGMS+VFI+Kw3GJtqLJ3waz1VTA/N1+KzWqr1yviOsny9pl6wGnO58eUEx7F3eF/a/KRsRVlvP0H35kFSpt2MVksACAGxsNvOZnnz531vlfHvD8m4y+5lc3Yl3sjZzq6+elK/Vz5FpNAXTmg/1hKWvtMwguqu8fRDHV0t6Lnc9siyOxs+QtDbxE3GdVCyUTmmVeptXOHrHWM0rJfVlqb0MRYP3Sroq+S7HX10Lw5+2zuOn5Xwx1AWSDs1yvAlM+0vaLZb9uBiWftQXlndu6zG1/Pkzcxzd27Zthm4aALDRcaH5Z3vypZPTfp7d+UULXH6tpPkpOJ0V+Vr9nJk+6KO6dJ1cp6Wi3UgfW5/EsjS3m20L/TsFsV8n2Qu525F1K3XxSklnpmS2d1Kx0P8faa+z3vCoXXM+/nOXXpDFNhNLqdi/yaQD4jC8LO37d+6oEwo9oS6S/Misxxs3P+Apfzwilt9RDPu/tc3sY9ryJSqm4OUzdKj72rXNkMACAGxap2taUsyXfpjWJfp9Yf+bAstdr/S8Oe4Lj+rSdUkceDzKn5KOVVgTSazeQv952+q42alsN4XFrx13u0HSDtzlwPr7Nhf/h6R1qTgZt3/rKZTOTWvf01soLXQ1r5f0vKy2l9Fo4HJJ16ai7cpfG4f+62K+f/c01lWxq/y81fk1y0z+JkHmvv/f/Cgv2T83xxt/KBZKp7T6S2GeaqIs/tqZCZt+c7u2GRJYAIDNGRkeGxUKy7q7ytun56SWBD350smx7FJJKRno+IPd0dpTkzr6Kp07qlhfS8sVcrejxsOxX6bs0QDrCfs/HHvwM6Un6QmkwvC6pX+W6VvpmeTqmCgMfz6vcPSOaYohxXzpJHddJWmbrLeZwPSZFJ3O7grshrTtq9RbKL9Osf9Wpn2IMhOP3Ur2bI/UzZbrpFyh4w+9hdKSuXMXFVu9vB1hx7s1Q/vjdUrL2jbWcOsAADaL+15B7Lf3hOUPJf2Gwu78ogXF/PKfm2lJqvo0Cz57ny6PEh0o1bu+LmlFilrOS2P5bcV86aSk3y62baF/p2JY+j+TfU0Jb/QPpFWzNp6alZzrvTzn43ekIYb0heWdi2HpSplOkZSjtUhDtYHrTbo8PWMVdceyy4r5/rPmzj2mN8lTma/DZxULpVPc/Wci2fkXOTUP2ITr2OOuk/P13IO9YelrPV2Lt2vFss6du6jo0sdn6HAPragN3t+u7YYEFgBgS2xl8m/0hndcV+ws7z3TB5+nI+cVC6X/DCz3W5n2TVfV+J3Vms5O+ixW6Oy1LvtiytpNl0ynFAv+q4lXzc/wpFPlOT350mfG3ZZLOoTbGHh2K3XxSsX21ZSd1iyZTinm9fOersWvnumD9+jYrXoL/Z+N5cslvZ5W8nQW+78p+TcSPu2UZHZcvt5YXiyUT5AWzvAXFkuCnnz5qCjM3yXXSSLZ+fTRkvsBm/Hrc1z6sMXBH4r50g/7CqUDWqekS4J8veP7mqnV3q5r2rndkMACAEyij/TXKPAbe8Lyj4td/dO+JH5rvb27t9D/2VzY8aBcn5TUmbrxmOxfpEozDSczEul/JN2RwobzqiD264th6Wd9hcXTvh9Er46YW8yXPumhP2Cmz0nq4u4FNi6s177uUvq+yTd/tcXBL4th+afdXYtfM92H61Z565586TNWiB5wt3+XFNI6/t5QY/B3cp2ewlPbVu6nF8PeOycSWSdO89hhInFVDJffZubnb+AxuUwz+ZZ8kZWX6djYdV0xLN1RDPs/mO59ssq5Yrj8OzO8Yf9F7dxuWDYPAJiKQcibFNubimHp93KdlevsPOPxtedN0eNrS4Ji4faDFOt4WX2xu81ObUW4Th+pD1yRnhOq1BWX36XAb1A6v/k9KPbgoGLYf6eZXTiu+PSVtaV/nKp20911x34Wx8e57BhJc51bFdgsj+rSdb1Were7rlYq3ybqbwji4A1P9j1Bp505tLby2FTHEJO/XdIcEUQ2Kq7bR4LQD5WUxke9dpb76cXCyFfd+wc8CM4eHav8fKo+vJjv390CO9r99ndItiOt4dk9Z065r9HwyW60/2LJ/jsXdpxSVPkn5vGg6o3LhnXJ6jSUcds5i7ZpNPwHkt48g4cdqtZ7ftLObYcEFgBgKr1YplOa440vFAulmyW/2l3LOjryt2xqQmtHnVBY27l29zjQ/pIfKFu+UG49aZw6/Y0/j9fzH0vbSVUblZt6wtI3TPpoeqvOXuSuk3MKPlMMy7e4/Oqc/BrPdd4yvO78RzdtVnJYWM3P2TVnvp9MB7kvP1Cx+tQCDQdIs+HawLKesP80k52Y9r4nHvcvFAvl3070PbYs16FbNjWhNRFDZu0WWPAayQ8yLV/osXqJIZtnVJVVRS/9s0wXp/YkXT0mO9FiP7EnLN0fyK+R2zVmduNQNPSgtGx84x+yJNi6cMcOuTjey8wOlPwgyXZ1l2gzG9eoa3/ZlFVUl+T9btavMF8rqnylLB7s6IgvX7HmosdnvnTlfDGM3zvesJNN6pvhxn2udGqjndsOCSwAwHTIybW3ZHub9InmeEPFsLRKZvfI9Zibr5X7EyY15TZLptmSeiW9YLXWbP+00V+rfOPt/v5VOnc0jac2K7LPjIV+hKRdUl6LgeSvMOkVsexjao6rGJZWy3SPXH8287Wxa9X6dlOwQHPcrdfkO45KOwTywFupzQCtEt6i4F8t9Dcpnatq/qbv8b0k7WXyk+JxqRiWnlgfQx5z05q/9j3qssBmu6tP8h1HZdsHEzFIhJHJqdYHftRTKJ1vrqPTfq4m7eSynWR6t8tVDHvrUul+yf5o5k/ItcrlDZd1BKZ5cs1x2fOl5bvIFcrsr5+ETa93i/f36amzguSHy+3w8UZOxbB0l8uvM9P1sQXXjY5VHpquIvV1lveMc94v93dJNj+RQVQcnNHubYcEFgBgpmy9fmIhe+o3lG0w5nPTeSPR4MVpPb+HVRnrs8XviT24Wq23iexcuV4pSe5P+brWJF+frUpgolmbGCQD2TCqyqo+9b8vll3WglF7K7le9Ux9j7uSSj7UJeXbuc3kO+yDjYYfqJnauHoKT13S7pLv/tT2YXpqe5nxXqeh9O35OclxU3DAUyp0Ou1ust3lOjFwVzHs/5Nkd0p+jxTc7fJ7Yuu4Z2Vt94ekJfGmfeSSoLvrju1y3nyhlNvFFb9ObgfH8m2SzHy77CdDjcot7d4fkcACAGBy7lIt/Ie0n+RQbel1vWH5ky7/MpdsUmou+4TJv0FVIEuGosGfFAulL8j1aWpjUtaa7LPtHosfW1MZ6u5a3B/EwdVq82TddDPpky79Z7vUY5/Kc2L3lydUm8+X9HzJDpUm1oDlfFzFcHlTKg1Lqsq1UmbrJlKWtlYT+9/NkXlo0jzX8vmKFboCTSQzU5HT9yCOT87C/cBbCAEA2PJR5WggO3xE5zzRCqc7HFW+IvczuHCTuOTmHwzi5vXUBLKoWltwsqTLqInJBBH/JzP/VRaKOjq29BeSfZSLPplhhn46HA18zaQn2qVMzVD7Kn0LaXKaWC34Ypn2k/xgSYdMvD3QD5b5qyW93KUXKJVvIbUfDTcGf5OFe4IEFgDgd5pYno7NE8euY4eiyn2tdNJhvf5PLt3C5dsCrjOHa4OnBUHnKioD2bQkbkbjx008foPNnmJK36/WBs8cjz0zMaQaVb4t1+lc/S1qLw9E+c7jJLmrfdpMYPH+XN0pVTPpE1kpLAksAGBW/isz/yfqYXOrTZ8ejQYub7XTflSXroutY5GkIS7i5lxuu65an3gL21g+IIGFzFqpi1fKO45UG60ImSFXD0c975ckDzxTMWRufc775bqRJrBZVsVub1m9+rzh9dP2tmkz7sEBXN6pY9JnhqPK3VkpLwksAICGa4OnufRf1MQmDr6k/6rWB77YshPQ2vkPBrEdKtMIV3OT3N3Ijy+WKnVJWr16LgksZFq1fsGdcWBvlrSG2tgkvx+P8qUnX2/vtUKmkn8P6oxaPex8i6TbaQqbpO6y8ki98vun/KxN+p0TOyXfh0s8ZQPSG4cj+3qWikwCCwAgSRqJBv5V8v+hJjY6WvjvkWjg461eiqFG5Zagaa8nibVR9ymw169efVH1rz86tSFpjKpBlo2OVX4eB/EbRRJrY+61XMchq3Tu6JM/WKXGE1KS7yubeatXnzfc2Wmvl2w5TWKDmu52/EhUufJvxh5tkfTs6Rp+paRZXOYpsdIsd7xUaWap0CSwAAB/GR1Vo5f+M5t8b7CKvl2NBj/cLqUZalRuUdMOU9t8szvFV1u634OOg6pjlUeeaeBIDSHrRseW/kKmI0VC99nc50F80PC68x99+o8rTWUw8ffYmspQ0KFDJN1F03hG4+46ZqReueAZOqS26HOCOMfjg1PVVmRvG44uyNx+hCSwAABPsSSu1gffZdLXqYu/881qNPhBtdm35tVG5SYP7DBWYv3tXEG3BLl4/5Gx8//0LL9C0g+QVK0N/MylI8VKrL9hvw067ICRsaUPE0P+amht5THLdbxe0u9pI0+zNpC/daQ+UHnm5tQe7cUlElhTE18++Per9LKBBBYA4O/GF8PRwEfkOklSTHVoXPJ/rkYDH1KbPvIxMlb5ZeC2j+R3crklSVd7ZAuH1y398wZG4SSwgCdjSDRwRez+Gkl/pDYkya6yKFo4tLby2AZ+KbMxZHjd+Y/Gke1n0uW0FcmkYQX++qFo8CfP+jttksAyqYcrPslButvJ1aiS2S0/SGABAJ5RtT7w5Vh6i7L9qNQTJjuyGg1+p90LOhRV7rOosY9kl2Z6YCg/tRr1vHFUlVUbGYXzBjbgKUbrg7fV881XSrqWGNL9pmFdsnojv5jpGDKqyqrhyA6X6UsZv3V+1zDbuzo2uOG3NLqtbofCDkdDC83sfZJWEDU3P7yY9LGReuVzWa4EElgAgGcfYEYDl5vs1S7dksHi323K7TUcVX6clQIP65LV1UiLMvoI6RPudvRINPi+J98UtiFm7IEF/K3Vqy+qdkdr3yDX6dmMIXobMWRzVJrV2sAn3Ow9kupZK71Lp82N5uy3qlZ5YKO/bO2yYm/Z+HCtcqpH4a7rk5c17oNN0nSz9w5HA1/NekWQwAIAbNBwVLm7J1r7apN/Tdl4a5JL/u2OqOuVWdwcU6o0h6OBj7j8jZL/KSOziBsC2SufcePcZ/03zgos4Bncp8ujan3gXe56m0nDWYkhOeVe8az7Fz0TI4Y8aaRW+d/Ym6+U6eaMFHlIbotHooETH9QZm5TAieP2euR0ROc8Ua0NfKJp8e5ynSmpwZ3wrB4108Ejtcr/UhUksAAAmzghGY4GPxoH8QGS7mjXcpr0gMwOrkaDH1ihs9dmekIRDf5fM2ru0eZvpXxC8g9V6wsOGIoq923OP4xlK4kMwAZiSH2gYh32UskuzkIMeTy64A+bFUPYR+9pRusXLa/WevZ11xK1cTLDzC/o6GwuqNYrF23mAKUt28vK2tI/VusDJ8SB7Szpm5LWcTc8zdWWi181XBtYRlVMIIEFANj0AebY0l9UI3uFXP8maXUbFa0p6Vu5qOul1Vrlaq70+oGlLl5ZrQ++M5C/WdJDbVQ0l+uHlot3r0aD35SWbP7LCtxYPQFsxNDaymPVqLLI3I5ts9VYk48hvMn0GZzaGKkPfLYZN/eS7LftVTa/U6aDh2uDR69Yc9HjWzBrb+v2MjpWeagaDXwo19G5k0xflDK/z+Qql/1LNVpwyAZfKJNBJLAAAJupUq/WB/6zo7O5s+T/o9b+ptQlDch9QTUa+GDWV1096yQ0GvxJNbJd1m+8+lhrl8auUhzvU60PHDepQSGP/wCbbLheOdcie4Fcn1CLJ25M9ovA9LrJxhAjCf6sVjYuurUavWQvd71N0r0tXpxHXPYv3dG6l1drAz/b4k9pZiPh+fja81ZUawOfsqi+nUzvkOyqjDV/l/vZQYftPhJV/nsLk+NtjQQWAGCLrFhz0ePVaPD9rbvs266y2PeuRgPlan3wLq7oxlTqw7XKqRbVd3W3k9Va3466ST81s4XVqHJItbH011Mwi2X1BLAZhlRZU60PfKme79x5/Z6KrbR5s0u60iw+aDiq7D9UG7ieGDLdlsQj9YFKNep5icn/UdIjLVaAP7r04a7IdhmJKv99ny6PJtVcctlqL8O6ZHW1NnBWNaocEsT+ivVfmLZ7HVzhgfav1gePH1pbeYwY8MxIYAEAJuXJZd8dnc0XyO2Tkj+Y4tMdk+ssD2y/alQ5ZLgx+Buu4OYPKkfqlc/V882d5DpJ8jRvdL/apdPc/aXD0cBhw7XKtVP1wRYz+QS26KZcfd7wcDT4UQ/iXWT+BUmPpvh018r1g9htz2o0cOhwbek1U/bJJLA20amN4Wjwu12R7TKRyEr5o4WuG9zt6Go0vPNINPCNh1UZm5JJ+1h228tQY/B31Wjw/WEUzXe3o810oaQ1bVK8pplfEMT+imo08IaRsYEbuOc3rIMqAABMhfV7OpwiLflyT7j8YHO9XaZFkrZKwen9TtL348jOGVWFScOUTEIvqkr6sqSv9BbKr/XY3ytTv6RC0oNBSdfK/KyO2qyB6Xos1GV3SfGpM1WoR1UYn87PN9eZsXzWTF+sXEc4onp73BMuXW7mVZN1zuxx7f5WrK+RsaUPS/q0tHBJb1g8zBW8V/I3ScolfGqxS7+Q2ZlBLbpwWJdMz36PTbvLcl6ZkTYSa6zV76+HVRlTpO9K+m5vZ/mVHvh7JL09HWMM/5PMzlXsZ0zXiu4hVdb2WulCSTYjHWk8/nja2sCjunSd6rpA0gU76oTCmnD1Ie5arMCOkKunxXqMe9zth3HQcfbK2vkPMqrcdCSwkDq5QKPjTf0oLecTqqPOVQE2x5J4JNIVkq7YUSf8w6pwzYGB9BaX3mjSTjN0EjVJ15t0RdObPx2tX7Sc6zJ9o7D1K5uu3Vpv/0Bnvv4Glw6V6RBJ283IGZhG5Foms0vrneOXrk+uTe/ku175vaT3tctFHI4GPkxTnmSbiCr/TS1siWXjw5EulXRp76yj5ytuvNndDpXp9XJ1z9BJrJZsmVl8aZDLX/L42vNWTPcBq43KTWrobVz/LYhXjcrNkm7eVsd9rJFf90aZDjXpUMl2nKFTiCXdKtPl1vSLhhuDN2viMdNp7msHjuLqT3hQZ9S0Pm5I5Vxvp14WB3qdSQtlvv8Mxo7NuYT3SLpccXButTFwE1dxy5DAQupsE33yPklHUhNA2wwwLpd0uST1dC3eLmjmXuvm+0h6kaTdJG0/2YGkSw9KdpeZ3+6uq2dFdv1ULdvHplulc0dV1/mSzpeknnz5xTI/VKZ9zLWbpN0ldU3yME1Jd8v9Zjf7bRDb9cONl/zuLxud1rgOQMsmJtad/6ik0yb+K+eKXfGrvGmHmtleUvzi9QmKya7QcsnvN7ObPdbNnrPrR8aGfi0tG+cKtJYVOnut6hqUNChJveFRu7riQ838APe/jDHyU9K9Sb9z6Wa5/aoRjl8zE1+UYFNVmsMN3SzpZklfk5YEfZ137BEH8Wtctqe59pDpJZLmzOBJuUsPmPsvFOhnbv6z9atOMUkksAAAM2Z9533u+v8kSdvquNnNzrW7yWw3mc2PXXNkmiP5VoFpa3frMlO0fjjwRCyNBLLH5XrY3O8OG8Fdf5usGqGq03G9J1Yp/f6vP1kSbFu4fcfYtXtTtquZiu7qC2xi6b+7tjapKdMayWN3G3bXkJkPm4IHJd03HOkBqfI3K2MrVDbQhpPS6phulHTjkz/ZWYeFw52F3QPr2N2knWVxn9yKMttaf5cc95VyXyOzx122Qq6HYh+/N2zMuY83zran4eiCeyTdI+nbEz8p5/rCeKfY7cVmtqvkz3X3XregaFJe8k65hU/2OWY+6q4hdxtWoEcC6b7Y4vtGxpY+oqeusOLZjJRbEg81dIukW546/tgmvPMFTY/3kLSbzOdL2kGm+XI9T9JztPmPZ7qkFT7xduZHTHrQzG6LrXlbMDZ+R3W6Hj/OOBJYAIBErdDZa9XQbyX9ltpo/0Hliprul3S/pJ9QHwA2x326PFJDt0q6ldrAxlWaQ5HulXQvdcH44/FIf5D0h2f++3J+2znj8zQezIma8dycOkLl4q0U22xJUuBrA3ndm7m1TVPdcs3RkbHeFdKpDep2ZpHAAgAAAAAAGVWpr1ijxyX9dfN6UlOpFFAFAAAAAAAASDMSWAAAAAAAAEg1ElgAAAAAAABINRJYAAAAAAAASDUSWAAAAAAAAEg1ElgAAAAAAABINRJYAAAAAAAASDUSWAAAAAAAAEg1ElgAAAAAAABINRJYAAAAAAAASDUSWAAAAAAAAEg1ElgAAAAAAABINRJYAAAAAAAASDUSWAAAAAAAAEg1ElgAAAAAAABINRJYAAAAAAAASDUSWAAAAAAAAEi1DqoAadPXWX6ZB35lWs6nGdnOo6qs4soAAAAAAJAMElhInVjNTinoTc/5dLJSEQAAAACABDExBwAAAAAAQKqRwAIAAAAAAECqkcACAAAAAABAqpHAAgAAAAAAQKqRwAIAAAAAAECqkcACAAAAAABAqpHAAgAAAAAAQKqRwAIAAAAAAECqkcACAAAAAABAqpHAAgAAAAAAQKp1UAWtyVxVmR5NxbmYVnJFAAAAAADAdCGB1aKq9YF3UAutyi6R/N5UnInbL7geAAAAAIC0I4EFzLBqVPk2tQAAAAAAwKZjDywAAAAAAACkGgksAAAAAAAApBoJLAAAAAAAAKQaCSwAAAAAAACkGgksAAAAAAAApBoJLAAAAAAAAKQaCSwAAAAAAACkGgksAAAAAAAApBoJLAAAAAAAAKQaCSwAAAAAAACkGgksAAAAAAAApBoJLAAAAAAAAKQaCSwAAAAAAACkWgdVAAApYcG3ramBmT5ss8OGqHwAAAAAaUYCCwBSojpWeUTSIzN+4AZ1DwAAACDdeIQQAAAAAAAAqUYCCwAAAAAAAKlGAgsAAAAAAACpRgILAAAAAAAAqUYCCwAAAAAAAKlGAgsAAAAAAACpRgILAAAAAAAAqUYCCwAAAAAAAKlGAgsAAAAAAACpRgILAAAAAAAAqUYCCwAAAAAAAKlGAgsAAAAAAACpRgILAAAAAAAAqUYCCwAAAAAAAKlGAgsAAAAAAACpRgILAAAAAAAAqUYCCwAAAAAAAKlGAgsAAAAAAACpRgILAAAAAAAAqUYCCwAAAAAAAKlGAgsAAAAAAACpRgILAAAAAAAAqUYCCwAAAAAAAKlGAgsAAAAAAACpRgILAAAAAAAAqUYCCwAAAAAAAKlGAgsAAAAAAACpRgILAAAAAAAAqUYCCwAAAAAAAKlGAgsAAAAAAACpRgILAAAAAAAAqUYCCwAAAAAAAKlGAgsAAAAAAACpRgILAAAAAAAAqUYCCwAAAAAAAKlGAgsAAAAAAACpRgILAAAAAAAAqUYCCwAAAAAAAKlGAgsAAAAAAACpRgILAAAAAAAAqUYCCwAAAAAAAKlGAgsAAAAAAACpRgILAAAAAAAAqdZBFSBtxhuF+3L5Rjkt57NKc9ZwVQAAAAAASA4JLKTOKp07qroGqAkAAAAAACDxCCEAAAAAAABSjgQWAAAAAAAAUo0EFgAAAAAAAFKNBBYAAAAAAABSjQQWAAAAAAAAUo0EFgAAAAAAAFKNBBYAAAAAAABSjQQWAAAAAAAAUo0EFgAAAAAAAFKNBBYAAAAAAABSjQQWAAAAAAAAUo0EFgAAAAAAAFKNBBYAAAAAAABSjQQWAAAAAAAAUo0EFgAAAAAAAFKNBBYAAAAAAABSjQQWAAAAAAAAUq2jHQvlsnWSP5KS06nSzAAAAAAAAAAAAAAAAAAAAAAAAAAAAAAAAAAAAAAAAAAAAAAAAAAAAAAAAAAAAAAAAAAAAAAAAAAAAAAAAAAAAAAAAAAAAAAAAAAAAAAAAAAAAAAAAAAAAAAAAAAAAAAAAAAAAAAAAAAAAAAAAAAAAAAAAAAAAAAAAAAAAAAAAAAAAAAAAAAAAAAAAAAAAAAAAAAAAAAAAAAAAAAAAAAAAAAAAAAAAAAAAAAAAAAAAAAAAAAAAAAAAAAAAAAAAAAAAAAAAAAAAAAAAAAAAAAAAAAAAAAAAAAAAAAAAAAAAAAAAAAAAAAAAAAAAAAAAAAAAAAAAAAAAAAAAAAAAAAAAAAAAAAAAAAAAAAAAAAAAAAAAAAAAAAAAAAAAAAAAAAAAAAAAAAAAAAAAAAAAAAAAAAAAAAAAAAAAAAAAAAAAAAAAAAAAAAAAAAAAAAAAAAAAAAAAAAAAAAAAAAAAAAAAAAAAAAAAAAAAAAAAAAAAAAAAAAAAAAAAAAAAAAAAAAAAAAAAAAAAAAAAAAAAAAAAAAAAAAAAAAAAAAAAAAAAAAAAAAAAAAAAAAAAAAAAAAAAAAAAAAAAAAAAAAAAAAAAAAAAAAAAAAAAAAAAAAAAAAAAAAAAAAAAAAAAAAAAAAAAAAAAAAAAAAAAAAAAAAAAAAAAAAAAAAAAAAAAAAAAAAAAAAAAAAAAAAAAAAAAAAAAAAAAAAAAAAAAAAAAAAAAAAAAAAAAAAAAAAAAAAAAAAAAAAAAAAAAAAAAACkwv8P+LgsnHmAskAAAAAldEVYdGRhdGU6Y3JlYXRlADIwMjAtMDItMDlUMjE6MDc6NTgrMDA6MDAAeCiPAAAAJXRFWHRkYXRlOm1vZGlmeQAyMDIwLTAyLTA5VDIxOjA3OjU4KzAwOjAwcSWQMwAAAABJRU5ErkJggg==)"
      ]
    },
    {
      "cell_type": "code",
      "metadata": {
        "id": "oVaRH_P6u3XV"
      },
      "source": [
        "import numpy as np\n",
        "import pandas as pd\n",
        "import matplotlib.pyplot as plt\n",
        "\n",
        "%matplotlib inline"
      ],
      "execution_count": 1,
      "outputs": []
    },
    {
      "cell_type": "markdown",
      "metadata": {
        "id": "K1BO5pPJ1Y1Y"
      },
      "source": [
        "# **Reading CSV**"
      ]
    },
    {
      "cell_type": "markdown",
      "metadata": {
        "id": "stOzkk9gvyCR"
      },
      "source": [
        "Pandas can easily read data stored in different file formats like CSV, JSON, XML or even Excel. Parsing always involves specifying the correct structure, encoding and other details. The `read_csv` method reads CSV files and accepts many parameters."
      ]
    },
    {
      "cell_type": "code",
      "metadata": {
        "id": "hDz6yHWmvogW"
      },
      "source": [
        "# structure of read_csv\n",
        "\n",
        "pd.read_csv?"
      ],
      "execution_count": 2,
      "outputs": []
    },
    {
      "cell_type": "code",
      "metadata": {
        "id": "rHe8GRNPv5pr"
      },
      "source": [
        "df= pd.read_csv('/content/btc-market-price.csv')"
      ],
      "execution_count": 3,
      "outputs": []
    },
    {
      "cell_type": "code",
      "metadata": {
        "colab": {
          "base_uri": "https://localhost:8080/",
          "height": 204
        },
        "id": "c7xdfe0KwdoR",
        "outputId": "d18739a4-2548-4eb3-add0-5e040ac4ba1a"
      },
      "source": [
        "df.head()"
      ],
      "execution_count": 4,
      "outputs": [
        {
          "output_type": "execute_result",
          "data": {
            "text/html": [
              "<div>\n",
              "<style scoped>\n",
              "    .dataframe tbody tr th:only-of-type {\n",
              "        vertical-align: middle;\n",
              "    }\n",
              "\n",
              "    .dataframe tbody tr th {\n",
              "        vertical-align: top;\n",
              "    }\n",
              "\n",
              "    .dataframe thead th {\n",
              "        text-align: right;\n",
              "    }\n",
              "</style>\n",
              "<table border=\"1\" class=\"dataframe\">\n",
              "  <thead>\n",
              "    <tr style=\"text-align: right;\">\n",
              "      <th></th>\n",
              "      <th>2017-04-02 00:00:00</th>\n",
              "      <th>1099.169125</th>\n",
              "    </tr>\n",
              "  </thead>\n",
              "  <tbody>\n",
              "    <tr>\n",
              "      <th>0</th>\n",
              "      <td>2017-04-03 00:00:00</td>\n",
              "      <td>1141.813000</td>\n",
              "    </tr>\n",
              "    <tr>\n",
              "      <th>1</th>\n",
              "      <td>2017-04-04 00:00:00</td>\n",
              "      <td>1141.600363</td>\n",
              "    </tr>\n",
              "    <tr>\n",
              "      <th>2</th>\n",
              "      <td>2017-04-05 00:00:00</td>\n",
              "      <td>1133.079314</td>\n",
              "    </tr>\n",
              "    <tr>\n",
              "      <th>3</th>\n",
              "      <td>2017-04-06 00:00:00</td>\n",
              "      <td>1196.307937</td>\n",
              "    </tr>\n",
              "    <tr>\n",
              "      <th>4</th>\n",
              "      <td>2017-04-07 00:00:00</td>\n",
              "      <td>1190.454250</td>\n",
              "    </tr>\n",
              "  </tbody>\n",
              "</table>\n",
              "</div>"
            ],
            "text/plain": [
              "   2017-04-02 00:00:00  1099.169125\n",
              "0  2017-04-03 00:00:00  1141.813000\n",
              "1  2017-04-04 00:00:00  1141.600363\n",
              "2  2017-04-05 00:00:00  1133.079314\n",
              "3  2017-04-06 00:00:00  1196.307937\n",
              "4  2017-04-07 00:00:00  1190.454250"
            ]
          },
          "metadata": {},
          "execution_count": 4
        }
      ]
    },
    {
      "cell_type": "markdown",
      "metadata": {
        "id": "g5m8R9c-xWcI"
      },
      "source": [
        "The CSV file we're reading has only two columns: `timestamp` and `price` with no headers.The file contains whitespaces and has values separated by commas. Pandas automatically assigned the first row of data as headers, which is incorrect. We can overwrite this behavior with the `header` parameter:"
      ]
    },
    {
      "cell_type": "code",
      "metadata": {
        "id": "Hu1INtjMxtUj"
      },
      "source": [
        "df= pd.read_csv('/content/btc-market-price.csv',header=None)"
      ],
      "execution_count": 5,
      "outputs": []
    },
    {
      "cell_type": "code",
      "metadata": {
        "colab": {
          "base_uri": "https://localhost:8080/",
          "height": 204
        },
        "id": "SQToQC1jxzMV",
        "outputId": "e3fd4924-ea4a-4900-b523-d69d56898450"
      },
      "source": [
        "df.head()"
      ],
      "execution_count": 6,
      "outputs": [
        {
          "output_type": "execute_result",
          "data": {
            "text/html": [
              "<div>\n",
              "<style scoped>\n",
              "    .dataframe tbody tr th:only-of-type {\n",
              "        vertical-align: middle;\n",
              "    }\n",
              "\n",
              "    .dataframe tbody tr th {\n",
              "        vertical-align: top;\n",
              "    }\n",
              "\n",
              "    .dataframe thead th {\n",
              "        text-align: right;\n",
              "    }\n",
              "</style>\n",
              "<table border=\"1\" class=\"dataframe\">\n",
              "  <thead>\n",
              "    <tr style=\"text-align: right;\">\n",
              "      <th></th>\n",
              "      <th>0</th>\n",
              "      <th>1</th>\n",
              "    </tr>\n",
              "  </thead>\n",
              "  <tbody>\n",
              "    <tr>\n",
              "      <th>0</th>\n",
              "      <td>2017-04-02 00:00:00</td>\n",
              "      <td>1099.169125</td>\n",
              "    </tr>\n",
              "    <tr>\n",
              "      <th>1</th>\n",
              "      <td>2017-04-03 00:00:00</td>\n",
              "      <td>1141.813000</td>\n",
              "    </tr>\n",
              "    <tr>\n",
              "      <th>2</th>\n",
              "      <td>2017-04-04 00:00:00</td>\n",
              "      <td>1141.600363</td>\n",
              "    </tr>\n",
              "    <tr>\n",
              "      <th>3</th>\n",
              "      <td>2017-04-05 00:00:00</td>\n",
              "      <td>1133.079314</td>\n",
              "    </tr>\n",
              "    <tr>\n",
              "      <th>4</th>\n",
              "      <td>2017-04-06 00:00:00</td>\n",
              "      <td>1196.307937</td>\n",
              "    </tr>\n",
              "  </tbody>\n",
              "</table>\n",
              "</div>"
            ],
            "text/plain": [
              "                     0            1\n",
              "0  2017-04-02 00:00:00  1099.169125\n",
              "1  2017-04-03 00:00:00  1141.813000\n",
              "2  2017-04-04 00:00:00  1141.600363\n",
              "3  2017-04-05 00:00:00  1133.079314\n",
              "4  2017-04-06 00:00:00  1196.307937"
            ]
          },
          "metadata": {},
          "execution_count": 6
        }
      ]
    },
    {
      "cell_type": "markdown",
      "metadata": {
        "id": "POMvbRN5x5KI"
      },
      "source": [
        "Setting the names of each column explicitely by setting the `df.columns` attribute:"
      ]
    },
    {
      "cell_type": "code",
      "metadata": {
        "id": "mOFjzeAmx0oA"
      },
      "source": [
        "df.columns= ['Timestamp','Price']"
      ],
      "execution_count": 7,
      "outputs": []
    },
    {
      "cell_type": "code",
      "metadata": {
        "colab": {
          "base_uri": "https://localhost:8080/"
        },
        "id": "dQ-9TA5CyBTY",
        "outputId": "59f44456-498b-42c9-e971-9e392649bf87"
      },
      "source": [
        "df.shape"
      ],
      "execution_count": 8,
      "outputs": [
        {
          "output_type": "execute_result",
          "data": {
            "text/plain": [
              "(365, 2)"
            ]
          },
          "metadata": {},
          "execution_count": 8
        }
      ]
    },
    {
      "cell_type": "code",
      "metadata": {
        "colab": {
          "base_uri": "https://localhost:8080/",
          "height": 204
        },
        "id": "XcLutrbJyDOP",
        "outputId": "c01bf164-26e7-4df8-ae5d-387b88cee084"
      },
      "source": [
        "df.head()"
      ],
      "execution_count": 9,
      "outputs": [
        {
          "output_type": "execute_result",
          "data": {
            "text/html": [
              "<div>\n",
              "<style scoped>\n",
              "    .dataframe tbody tr th:only-of-type {\n",
              "        vertical-align: middle;\n",
              "    }\n",
              "\n",
              "    .dataframe tbody tr th {\n",
              "        vertical-align: top;\n",
              "    }\n",
              "\n",
              "    .dataframe thead th {\n",
              "        text-align: right;\n",
              "    }\n",
              "</style>\n",
              "<table border=\"1\" class=\"dataframe\">\n",
              "  <thead>\n",
              "    <tr style=\"text-align: right;\">\n",
              "      <th></th>\n",
              "      <th>Timestamp</th>\n",
              "      <th>Price</th>\n",
              "    </tr>\n",
              "  </thead>\n",
              "  <tbody>\n",
              "    <tr>\n",
              "      <th>0</th>\n",
              "      <td>2017-04-02 00:00:00</td>\n",
              "      <td>1099.169125</td>\n",
              "    </tr>\n",
              "    <tr>\n",
              "      <th>1</th>\n",
              "      <td>2017-04-03 00:00:00</td>\n",
              "      <td>1141.813000</td>\n",
              "    </tr>\n",
              "    <tr>\n",
              "      <th>2</th>\n",
              "      <td>2017-04-04 00:00:00</td>\n",
              "      <td>1141.600363</td>\n",
              "    </tr>\n",
              "    <tr>\n",
              "      <th>3</th>\n",
              "      <td>2017-04-05 00:00:00</td>\n",
              "      <td>1133.079314</td>\n",
              "    </tr>\n",
              "    <tr>\n",
              "      <th>4</th>\n",
              "      <td>2017-04-06 00:00:00</td>\n",
              "      <td>1196.307937</td>\n",
              "    </tr>\n",
              "  </tbody>\n",
              "</table>\n",
              "</div>"
            ],
            "text/plain": [
              "             Timestamp        Price\n",
              "0  2017-04-02 00:00:00  1099.169125\n",
              "1  2017-04-03 00:00:00  1141.813000\n",
              "2  2017-04-04 00:00:00  1141.600363\n",
              "3  2017-04-05 00:00:00  1133.079314\n",
              "4  2017-04-06 00:00:00  1196.307937"
            ]
          },
          "metadata": {},
          "execution_count": 9
        }
      ]
    },
    {
      "cell_type": "code",
      "metadata": {
        "colab": {
          "base_uri": "https://localhost:8080/",
          "height": 173
        },
        "id": "kOz1iA7XyFIp",
        "outputId": "7d10bd63-238c-497a-be5a-bd8a14cb2af1"
      },
      "source": [
        "df.tail(4)"
      ],
      "execution_count": 10,
      "outputs": [
        {
          "output_type": "execute_result",
          "data": {
            "text/html": [
              "<div>\n",
              "<style scoped>\n",
              "    .dataframe tbody tr th:only-of-type {\n",
              "        vertical-align: middle;\n",
              "    }\n",
              "\n",
              "    .dataframe tbody tr th {\n",
              "        vertical-align: top;\n",
              "    }\n",
              "\n",
              "    .dataframe thead th {\n",
              "        text-align: right;\n",
              "    }\n",
              "</style>\n",
              "<table border=\"1\" class=\"dataframe\">\n",
              "  <thead>\n",
              "    <tr style=\"text-align: right;\">\n",
              "      <th></th>\n",
              "      <th>Timestamp</th>\n",
              "      <th>Price</th>\n",
              "    </tr>\n",
              "  </thead>\n",
              "  <tbody>\n",
              "    <tr>\n",
              "      <th>361</th>\n",
              "      <td>2018-03-29 00:00:00</td>\n",
              "      <td>7172.280000</td>\n",
              "    </tr>\n",
              "    <tr>\n",
              "      <th>362</th>\n",
              "      <td>2018-03-30 00:00:00</td>\n",
              "      <td>6882.531667</td>\n",
              "    </tr>\n",
              "    <tr>\n",
              "      <th>363</th>\n",
              "      <td>2018-03-31 00:00:00</td>\n",
              "      <td>6935.480000</td>\n",
              "    </tr>\n",
              "    <tr>\n",
              "      <th>364</th>\n",
              "      <td>2018-04-01 00:00:00</td>\n",
              "      <td>6794.105000</td>\n",
              "    </tr>\n",
              "  </tbody>\n",
              "</table>\n",
              "</div>"
            ],
            "text/plain": [
              "               Timestamp        Price\n",
              "361  2018-03-29 00:00:00  7172.280000\n",
              "362  2018-03-30 00:00:00  6882.531667\n",
              "363  2018-03-31 00:00:00  6935.480000\n",
              "364  2018-04-01 00:00:00  6794.105000"
            ]
          },
          "metadata": {},
          "execution_count": 10
        }
      ]
    },
    {
      "cell_type": "code",
      "metadata": {
        "colab": {
          "base_uri": "https://localhost:8080/"
        },
        "id": "L9x-S487yIgl",
        "outputId": "acf31569-101e-43c4-eee1-88826afef1c1"
      },
      "source": [
        "df.dtypes"
      ],
      "execution_count": 11,
      "outputs": [
        {
          "output_type": "execute_result",
          "data": {
            "text/plain": [
              "Timestamp     object\n",
              "Price        float64\n",
              "dtype: object"
            ]
          },
          "metadata": {},
          "execution_count": 11
        }
      ]
    },
    {
      "cell_type": "markdown",
      "metadata": {
        "id": "d1eSANDBySyG"
      },
      "source": [
        "The type of the `Price` column was correctly interpreted as `float`, but the `Timestamp` was interpreted as a regular string (`object` in pandas notation):"
      ]
    },
    {
      "cell_type": "markdown",
      "metadata": {
        "id": "D-M2BeJCyXDT"
      },
      "source": [
        "We can perform a vectorized operation to parse all the Timestamp values as `Datetime` objects:"
      ]
    },
    {
      "cell_type": "code",
      "metadata": {
        "colab": {
          "base_uri": "https://localhost:8080/"
        },
        "id": "mFO3zgTtyP_6",
        "outputId": "582d4f74-5b0b-458e-f57d-a102b137ba21"
      },
      "source": [
        "pd.to_datetime(df['Timestamp']).head()"
      ],
      "execution_count": 12,
      "outputs": [
        {
          "output_type": "execute_result",
          "data": {
            "text/plain": [
              "0   2017-04-02\n",
              "1   2017-04-03\n",
              "2   2017-04-04\n",
              "3   2017-04-05\n",
              "4   2017-04-06\n",
              "Name: Timestamp, dtype: datetime64[ns]"
            ]
          },
          "metadata": {},
          "execution_count": 12
        }
      ]
    },
    {
      "cell_type": "code",
      "metadata": {
        "colab": {
          "base_uri": "https://localhost:8080/"
        },
        "id": "bji8ifDwyOvF",
        "outputId": "8558d640-48cb-4ad1-b877-389c20011bc9"
      },
      "source": [
        "df.dtypes"
      ],
      "execution_count": 13,
      "outputs": [
        {
          "output_type": "execute_result",
          "data": {
            "text/plain": [
              "Timestamp     object\n",
              "Price        float64\n",
              "dtype: object"
            ]
          },
          "metadata": {},
          "execution_count": 13
        }
      ]
    },
    {
      "cell_type": "code",
      "metadata": {
        "id": "DbgOccb7ylgL"
      },
      "source": [
        "# saves it to the column\n",
        "\n",
        "df['Timestamp']= pd.to_datetime(df['Timestamp'])"
      ],
      "execution_count": 14,
      "outputs": []
    },
    {
      "cell_type": "code",
      "metadata": {
        "colab": {
          "base_uri": "https://localhost:8080/",
          "height": 204
        },
        "id": "Dem38DMqyvmu",
        "outputId": "c32db978-48d7-413d-e1e2-f6812c2e1243"
      },
      "source": [
        "df.head()"
      ],
      "execution_count": 15,
      "outputs": [
        {
          "output_type": "execute_result",
          "data": {
            "text/html": [
              "<div>\n",
              "<style scoped>\n",
              "    .dataframe tbody tr th:only-of-type {\n",
              "        vertical-align: middle;\n",
              "    }\n",
              "\n",
              "    .dataframe tbody tr th {\n",
              "        vertical-align: top;\n",
              "    }\n",
              "\n",
              "    .dataframe thead th {\n",
              "        text-align: right;\n",
              "    }\n",
              "</style>\n",
              "<table border=\"1\" class=\"dataframe\">\n",
              "  <thead>\n",
              "    <tr style=\"text-align: right;\">\n",
              "      <th></th>\n",
              "      <th>Timestamp</th>\n",
              "      <th>Price</th>\n",
              "    </tr>\n",
              "  </thead>\n",
              "  <tbody>\n",
              "    <tr>\n",
              "      <th>0</th>\n",
              "      <td>2017-04-02</td>\n",
              "      <td>1099.169125</td>\n",
              "    </tr>\n",
              "    <tr>\n",
              "      <th>1</th>\n",
              "      <td>2017-04-03</td>\n",
              "      <td>1141.813000</td>\n",
              "    </tr>\n",
              "    <tr>\n",
              "      <th>2</th>\n",
              "      <td>2017-04-04</td>\n",
              "      <td>1141.600363</td>\n",
              "    </tr>\n",
              "    <tr>\n",
              "      <th>3</th>\n",
              "      <td>2017-04-05</td>\n",
              "      <td>1133.079314</td>\n",
              "    </tr>\n",
              "    <tr>\n",
              "      <th>4</th>\n",
              "      <td>2017-04-06</td>\n",
              "      <td>1196.307937</td>\n",
              "    </tr>\n",
              "  </tbody>\n",
              "</table>\n",
              "</div>"
            ],
            "text/plain": [
              "   Timestamp        Price\n",
              "0 2017-04-02  1099.169125\n",
              "1 2017-04-03  1141.813000\n",
              "2 2017-04-04  1141.600363\n",
              "3 2017-04-05  1133.079314\n",
              "4 2017-04-06  1196.307937"
            ]
          },
          "metadata": {},
          "execution_count": 15
        }
      ]
    },
    {
      "cell_type": "code",
      "metadata": {
        "colab": {
          "base_uri": "https://localhost:8080/"
        },
        "id": "a2fe4BNByxrZ",
        "outputId": "31eaaf5e-6711-46ce-effa-c9d0b8e74177"
      },
      "source": [
        "df.dtypes"
      ],
      "execution_count": 16,
      "outputs": [
        {
          "output_type": "execute_result",
          "data": {
            "text/plain": [
              "Timestamp    datetime64[ns]\n",
              "Price               float64\n",
              "dtype: object"
            ]
          },
          "metadata": {},
          "execution_count": 16
        }
      ]
    },
    {
      "cell_type": "markdown",
      "metadata": {
        "id": "P6yQGShZz8mu"
      },
      "source": [
        "Setting the `Timestamp` as our index so as to quickly access information"
      ]
    },
    {
      "cell_type": "code",
      "metadata": {
        "id": "FBABs2Mmy1cI"
      },
      "source": [
        "df.set_index('Timestamp', inplace=True)"
      ],
      "execution_count": 17,
      "outputs": []
    },
    {
      "cell_type": "code",
      "metadata": {
        "colab": {
          "base_uri": "https://localhost:8080/",
          "height": 235
        },
        "id": "bQlBI2gC0MY5",
        "outputId": "c97d9e57-a4b5-4052-9557-0a266905f5f5"
      },
      "source": [
        "df.head()"
      ],
      "execution_count": 18,
      "outputs": [
        {
          "output_type": "execute_result",
          "data": {
            "text/html": [
              "<div>\n",
              "<style scoped>\n",
              "    .dataframe tbody tr th:only-of-type {\n",
              "        vertical-align: middle;\n",
              "    }\n",
              "\n",
              "    .dataframe tbody tr th {\n",
              "        vertical-align: top;\n",
              "    }\n",
              "\n",
              "    .dataframe thead th {\n",
              "        text-align: right;\n",
              "    }\n",
              "</style>\n",
              "<table border=\"1\" class=\"dataframe\">\n",
              "  <thead>\n",
              "    <tr style=\"text-align: right;\">\n",
              "      <th></th>\n",
              "      <th>Price</th>\n",
              "    </tr>\n",
              "    <tr>\n",
              "      <th>Timestamp</th>\n",
              "      <th></th>\n",
              "    </tr>\n",
              "  </thead>\n",
              "  <tbody>\n",
              "    <tr>\n",
              "      <th>2017-04-02</th>\n",
              "      <td>1099.169125</td>\n",
              "    </tr>\n",
              "    <tr>\n",
              "      <th>2017-04-03</th>\n",
              "      <td>1141.813000</td>\n",
              "    </tr>\n",
              "    <tr>\n",
              "      <th>2017-04-04</th>\n",
              "      <td>1141.600363</td>\n",
              "    </tr>\n",
              "    <tr>\n",
              "      <th>2017-04-05</th>\n",
              "      <td>1133.079314</td>\n",
              "    </tr>\n",
              "    <tr>\n",
              "      <th>2017-04-06</th>\n",
              "      <td>1196.307937</td>\n",
              "    </tr>\n",
              "  </tbody>\n",
              "</table>\n",
              "</div>"
            ],
            "text/plain": [
              "                  Price\n",
              "Timestamp              \n",
              "2017-04-02  1099.169125\n",
              "2017-04-03  1141.813000\n",
              "2017-04-04  1141.600363\n",
              "2017-04-05  1133.079314\n",
              "2017-04-06  1196.307937"
            ]
          },
          "metadata": {},
          "execution_count": 18
        }
      ]
    },
    {
      "cell_type": "code",
      "metadata": {
        "colab": {
          "base_uri": "https://localhost:8080/"
        },
        "id": "53SgMdvo0NR5",
        "outputId": "dd581a63-f2b4-4b0d-c1dd-3ebec8c5869b"
      },
      "source": [
        "df.loc['2017-09-29']"
      ],
      "execution_count": 19,
      "outputs": [
        {
          "output_type": "execute_result",
          "data": {
            "text/plain": [
              "Price    4193.574667\n",
              "Name: 2017-09-29 00:00:00, dtype: float64"
            ]
          },
          "metadata": {},
          "execution_count": 19
        }
      ]
    },
    {
      "cell_type": "markdown",
      "metadata": {
        "id": "S-NLwie-0cfP"
      },
      "source": [
        "## **Putting all these together**"
      ]
    },
    {
      "cell_type": "markdown",
      "metadata": {
        "id": "CxFeZL5Y5Veu"
      },
      "source": [
        "What we have done till now\n",
        "1. read csv without header\n",
        "2. create the columns\n",
        "3. turn the `Timestamp` to datetime\n",
        "4. assign `Timestamp` to index"
      ]
    },
    {
      "cell_type": "markdown",
      "metadata": {
        "id": "VGSUgKgV0k-K"
      },
      "source": [
        "The `read_csv` function is extremely powerful and you can specify many more parameters at import time. We can achive the same results with only one line by doing:"
      ]
    },
    {
      "cell_type": "code",
      "metadata": {
        "id": "rAKKCFac0UW9"
      },
      "source": [
        "df = pd.read_csv(\n",
        "    '/content/btc-market-price.csv',\n",
        "    header=None,\n",
        "    names=['Timestamp', 'Price'],\n",
        "    index_col=0,\n",
        "    parse_dates=True\n",
        ")"
      ],
      "execution_count": 20,
      "outputs": []
    },
    {
      "cell_type": "code",
      "metadata": {
        "colab": {
          "base_uri": "https://localhost:8080/",
          "height": 235
        },
        "id": "u9BdZEYN008A",
        "outputId": "42af149e-3abd-4d25-ae1d-97a1537300d4"
      },
      "source": [
        "df.head()"
      ],
      "execution_count": 21,
      "outputs": [
        {
          "output_type": "execute_result",
          "data": {
            "text/html": [
              "<div>\n",
              "<style scoped>\n",
              "    .dataframe tbody tr th:only-of-type {\n",
              "        vertical-align: middle;\n",
              "    }\n",
              "\n",
              "    .dataframe tbody tr th {\n",
              "        vertical-align: top;\n",
              "    }\n",
              "\n",
              "    .dataframe thead th {\n",
              "        text-align: right;\n",
              "    }\n",
              "</style>\n",
              "<table border=\"1\" class=\"dataframe\">\n",
              "  <thead>\n",
              "    <tr style=\"text-align: right;\">\n",
              "      <th></th>\n",
              "      <th>Price</th>\n",
              "    </tr>\n",
              "    <tr>\n",
              "      <th>Timestamp</th>\n",
              "      <th></th>\n",
              "    </tr>\n",
              "  </thead>\n",
              "  <tbody>\n",
              "    <tr>\n",
              "      <th>2017-04-02</th>\n",
              "      <td>1099.169125</td>\n",
              "    </tr>\n",
              "    <tr>\n",
              "      <th>2017-04-03</th>\n",
              "      <td>1141.813000</td>\n",
              "    </tr>\n",
              "    <tr>\n",
              "      <th>2017-04-04</th>\n",
              "      <td>1141.600363</td>\n",
              "    </tr>\n",
              "    <tr>\n",
              "      <th>2017-04-05</th>\n",
              "      <td>1133.079314</td>\n",
              "    </tr>\n",
              "    <tr>\n",
              "      <th>2017-04-06</th>\n",
              "      <td>1196.307937</td>\n",
              "    </tr>\n",
              "  </tbody>\n",
              "</table>\n",
              "</div>"
            ],
            "text/plain": [
              "                  Price\n",
              "Timestamp              \n",
              "2017-04-02  1099.169125\n",
              "2017-04-03  1141.813000\n",
              "2017-04-04  1141.600363\n",
              "2017-04-05  1133.079314\n",
              "2017-04-06  1196.307937"
            ]
          },
          "metadata": {},
          "execution_count": 21
        }
      ]
    },
    {
      "cell_type": "code",
      "metadata": {
        "colab": {
          "base_uri": "https://localhost:8080/"
        },
        "id": "ciftovzn1OUK",
        "outputId": "e7ca4323-e8f0-442e-c4b4-f713d6c03e9e"
      },
      "source": [
        "df.loc['2017-09-29']"
      ],
      "execution_count": 22,
      "outputs": [
        {
          "output_type": "execute_result",
          "data": {
            "text/plain": [
              "Price    4193.574667\n",
              "Name: 2017-09-29 00:00:00, dtype: float64"
            ]
          },
          "metadata": {},
          "execution_count": 22
        }
      ]
    },
    {
      "cell_type": "markdown",
      "metadata": {
        "id": "UeRkirZ61VWn"
      },
      "source": [
        "# **Plotting Basics**"
      ]
    },
    {
      "cell_type": "code",
      "metadata": {
        "colab": {
          "base_uri": "https://localhost:8080/",
          "height": 308
        },
        "id": "VVK8EF9A1Urq",
        "outputId": "cc186491-e51f-4d9f-d874-07d68acbd811"
      },
      "source": [
        "df.plot()"
      ],
      "execution_count": 23,
      "outputs": [
        {
          "output_type": "execute_result",
          "data": {
            "text/plain": [
              "<matplotlib.axes._subplots.AxesSubplot at 0x7fb0866591d0>"
            ]
          },
          "metadata": {},
          "execution_count": 23
        },
        {
          "output_type": "display_data",
          "data": {
            "image/png": "[encoded data removed]",
            "text/plain": [
              "<Figure size 432x288 with 1 Axes>"
            ]
          },
          "metadata": {
            "needs_background": "light"
          }
        }
      ]
    },
    {
      "cell_type": "markdown",
      "metadata": {
        "id": "VMeEoDYe1ut0"
      },
      "source": [
        "`pandas` integrates with Matplotlib and uses `matplotlib.pyplot`'s interface to plot this graph. <br>\n",
        "We can create a similar plot with the `plt.plot()` function:"
      ]
    },
    {
      "cell_type": "code",
      "metadata": {
        "colab": {
          "base_uri": "https://localhost:8080/",
          "height": 282
        },
        "id": "jTolvlAt1lka",
        "outputId": "3bdadc26-ae57-417f-90b3-ad34cb737c55"
      },
      "source": [
        "plt.plot(df.index, df['Price'])"
      ],
      "execution_count": 24,
      "outputs": [
        {
          "output_type": "execute_result",
          "data": {
            "text/plain": [
              "[<matplotlib.lines.Line2D at 0x7fb08615f5d0>]"
            ]
          },
          "metadata": {},
          "execution_count": 24
        },
        {
          "output_type": "display_data",
          "data": {
            "image/png": "[encoded data removed]",
            "text/plain": [
              "<Figure size 432x288 with 1 Axes>"
            ]
          },
          "metadata": {
            "needs_background": "light"
          }
        }
      ]
    },
    {
      "cell_type": "markdown",
      "metadata": {
        "id": "TX8GLMWM2Spx"
      },
      "source": [
        "`plt.plot()` accepts many parameters, but the first two ones are the most important ones: the values for the `X` and `Y` axes."
      ]
    },
    {
      "cell_type": "code",
      "metadata": {
        "id": "0fa7Y-df2MLf"
      },
      "source": [
        "x= np.arange(-10, 11)"
      ],
      "execution_count": 25,
      "outputs": []
    },
    {
      "cell_type": "code",
      "metadata": {
        "colab": {
          "base_uri": "https://localhost:8080/",
          "height": 282
        },
        "id": "ZY04r6ZG3AOs",
        "outputId": "9c0573a9-7c80-42ec-ae24-5412818d00f7"
      },
      "source": [
        "plt.plot(x, x**2)"
      ],
      "execution_count": 26,
      "outputs": [
        {
          "output_type": "execute_result",
          "data": {
            "text/plain": [
              "[<matplotlib.lines.Line2D at 0x7fb085c29910>]"
            ]
          },
          "metadata": {},
          "execution_count": 26
        },
        {
          "output_type": "display_data",
          "data": {
            "image/png": "[encoded data removed]",
            "text/plain": [
              "<Figure size 432x288 with 1 Axes>"
            ]
          },
          "metadata": {
            "needs_background": "light"
          }
        }
      ]
    },
    {
      "cell_type": "code",
      "metadata": {
        "colab": {
          "base_uri": "https://localhost:8080/",
          "height": 282
        },
        "id": "CKKKM8wW2bBM",
        "outputId": "6d7d88ba-4abb-495e-db74-bea130a20328"
      },
      "source": [
        "plt.plot(x, x**2)\n",
        "plt.plot(x, -1*(x**2))"
      ],
      "execution_count": 27,
      "outputs": [
        {
          "output_type": "execute_result",
          "data": {
            "text/plain": [
              "[<matplotlib.lines.Line2D at 0x7fb085c19e50>]"
            ]
          },
          "metadata": {},
          "execution_count": 27
        },
        {
          "output_type": "display_data",
          "data": {
            "image/png": "[encoded data removed]",
            "text/plain": [
              "<Figure size 432x288 with 1 Axes>"
            ]
          },
          "metadata": {
            "needs_background": "light"
          }
        }
      ]
    },
    {
      "cell_type": "markdown",
      "metadata": {
        "id": "NOG40NnH3PKG"
      },
      "source": [
        "We're using `matplotlib`'s global API,  the most popular one."
      ]
    },
    {
      "cell_type": "markdown",
      "metadata": {
        "id": "zbBM67eG3RM9"
      },
      "source": [
        "Each `plt` function alters the global state. If you want to set settings of your plot you can use the `plt.figure` function. Others like `plt.title` keep altering the global plot:"
      ]
    },
    {
      "cell_type": "code",
      "metadata": {
        "colab": {
          "base_uri": "https://localhost:8080/",
          "height": 407
        },
        "id": "fjQE1L9D2x5d",
        "outputId": "b60015c0-51ad-4098-9d44-d84b5e809069"
      },
      "source": [
        "plt.figure(figsize=(12,6))\n",
        "plt.plot(x, x**2)\n",
        "plt.plot(x, -1*(x**2))\n",
        "\n",
        "plt.title('2 graphs')"
      ],
      "execution_count": 28,
      "outputs": [
        {
          "output_type": "execute_result",
          "data": {
            "text/plain": [
              "Text(0.5, 1.0, '2 graphs')"
            ]
          },
          "metadata": {},
          "execution_count": 28
        },
        {
          "output_type": "display_data",
          "data": {
            "image/png": "[encoded data removed]",
            "text/plain": [
              "<Figure size 864x432 with 1 Axes>"
            ]
          },
          "metadata": {
            "needs_background": "light"
          }
        }
      ]
    },
    {
      "cell_type": "markdown",
      "metadata": {
        "id": "4r40fVsA4rqw"
      },
      "source": [
        "Some of the arguments in `plt.figure` and `plt.plot` are available in the pandas' `plot` interface"
      ]
    },
    {
      "cell_type": "code",
      "metadata": {
        "colab": {
          "base_uri": "https://localhost:8080/",
          "height": 596
        },
        "id": "XKqzzmJs4nJ4",
        "outputId": "be36e11b-9a41-4d57-941d-54ea58e56f54"
      },
      "source": [
        "df.plot(figsize=(16,9), title='Bitcoin Price 2017-2018')"
      ],
      "execution_count": 29,
      "outputs": [
        {
          "output_type": "execute_result",
          "data": {
            "text/plain": [
              "<matplotlib.axes._subplots.AxesSubplot at 0x7fb085c8a350>"
            ]
          },
          "metadata": {},
          "execution_count": 29
        },
        {
          "output_type": "display_data",
          "data": {
            "image/png": "[encoded data removed]",
            "text/plain": [
              "<Figure size 1152x648 with 1 Axes>"
            ]
          },
          "metadata": {
            "needs_background": "light"
          }
        }
      ]
    },
    {
      "cell_type": "markdown",
      "metadata": {
        "id": "iX3l6C3E67YE"
      },
      "source": [
        "## **More Parsing**"
      ]
    },
    {
      "cell_type": "markdown",
      "metadata": {
        "id": "RBumR2Qo7II7"
      },
      "source": [
        "## A more challenging parsing\n",
        "\n",
        "To demonstrate plotting two columns together, we'll try to add Ether prices to our `df` DataFrame."
      ]
    },
    {
      "cell_type": "code",
      "metadata": {
        "colab": {
          "base_uri": "https://localhost:8080/",
          "height": 204
        },
        "id": "Pd3szfUJ42QM",
        "outputId": "ad1bc8b4-1222-43f0-be43-9b69175682ae"
      },
      "source": [
        "eth= pd.read_csv('/content/eth-price.csv')\n",
        "eth.head()"
      ],
      "execution_count": 30,
      "outputs": [
        {
          "output_type": "execute_result",
          "data": {
            "text/html": [
              "<div>\n",
              "<style scoped>\n",
              "    .dataframe tbody tr th:only-of-type {\n",
              "        vertical-align: middle;\n",
              "    }\n",
              "\n",
              "    .dataframe tbody tr th {\n",
              "        vertical-align: top;\n",
              "    }\n",
              "\n",
              "    .dataframe thead th {\n",
              "        text-align: right;\n",
              "    }\n",
              "</style>\n",
              "<table border=\"1\" class=\"dataframe\">\n",
              "  <thead>\n",
              "    <tr style=\"text-align: right;\">\n",
              "      <th></th>\n",
              "      <th>Date(UTC)</th>\n",
              "      <th>UnixTimeStamp</th>\n",
              "      <th>Value</th>\n",
              "    </tr>\n",
              "  </thead>\n",
              "  <tbody>\n",
              "    <tr>\n",
              "      <th>0</th>\n",
              "      <td>4/2/2017</td>\n",
              "      <td>1491091200</td>\n",
              "      <td>48.55</td>\n",
              "    </tr>\n",
              "    <tr>\n",
              "      <th>1</th>\n",
              "      <td>4/3/2017</td>\n",
              "      <td>1491177600</td>\n",
              "      <td>44.13</td>\n",
              "    </tr>\n",
              "    <tr>\n",
              "      <th>2</th>\n",
              "      <td>4/4/2017</td>\n",
              "      <td>1491264000</td>\n",
              "      <td>44.43</td>\n",
              "    </tr>\n",
              "    <tr>\n",
              "      <th>3</th>\n",
              "      <td>4/5/2017</td>\n",
              "      <td>1491350400</td>\n",
              "      <td>44.90</td>\n",
              "    </tr>\n",
              "    <tr>\n",
              "      <th>4</th>\n",
              "      <td>4/6/2017</td>\n",
              "      <td>1491436800</td>\n",
              "      <td>43.23</td>\n",
              "    </tr>\n",
              "  </tbody>\n",
              "</table>\n",
              "</div>"
            ],
            "text/plain": [
              "  Date(UTC)  UnixTimeStamp  Value\n",
              "0  4/2/2017     1491091200  48.55\n",
              "1  4/3/2017     1491177600  44.13\n",
              "2  4/4/2017     1491264000  44.43\n",
              "3  4/5/2017     1491350400  44.90\n",
              "4  4/6/2017     1491436800  43.23"
            ]
          },
          "metadata": {},
          "execution_count": 30
        }
      ]
    },
    {
      "cell_type": "markdown",
      "metadata": {
        "id": "vUT__Ai27ad4"
      },
      "source": [
        "`Value` column represents the price, `Date(UTC)` column has a string representing dates and also `UnixTimeStamp` date representing the datetime in unix timestamp format. "
      ]
    },
    {
      "cell_type": "code",
      "metadata": {
        "id": "QaIa9h3o7Z7f",
        "colab": {
          "base_uri": "https://localhost:8080/"
        },
        "outputId": "ba69286c-ccf6-4b12-f879-e927100bb550"
      },
      "source": [
        "eth.dtypes"
      ],
      "execution_count": 31,
      "outputs": [
        {
          "output_type": "execute_result",
          "data": {
            "text/plain": [
              "Date(UTC)         object\n",
              "UnixTimeStamp      int64\n",
              "Value            float64\n",
              "dtype: object"
            ]
          },
          "metadata": {},
          "execution_count": 31
        }
      ]
    },
    {
      "cell_type": "code",
      "metadata": {
        "id": "tPi9KNwx7Vqh"
      },
      "source": [
        "eth= pd.read_csv('/content/eth-price.csv', parse_dates=True)"
      ],
      "execution_count": 32,
      "outputs": []
    },
    {
      "cell_type": "code",
      "metadata": {
        "colab": {
          "base_uri": "https://localhost:8080/",
          "height": 272
        },
        "id": "bzyW3cLn9RQk",
        "outputId": "d3d861ba-56e6-4fa4-c77c-70646136f32c"
      },
      "source": [
        "print(eth.dtypes)\n",
        "eth.head()"
      ],
      "execution_count": 33,
      "outputs": [
        {
          "output_type": "stream",
          "name": "stdout",
          "text": [
            "Date(UTC)         object\n",
            "UnixTimeStamp      int64\n",
            "Value            float64\n",
            "dtype: object\n"
          ]
        },
        {
          "output_type": "execute_result",
          "data": {
            "text/html": [
              "<div>\n",
              "<style scoped>\n",
              "    .dataframe tbody tr th:only-of-type {\n",
              "        vertical-align: middle;\n",
              "    }\n",
              "\n",
              "    .dataframe tbody tr th {\n",
              "        vertical-align: top;\n",
              "    }\n",
              "\n",
              "    .dataframe thead th {\n",
              "        text-align: right;\n",
              "    }\n",
              "</style>\n",
              "<table border=\"1\" class=\"dataframe\">\n",
              "  <thead>\n",
              "    <tr style=\"text-align: right;\">\n",
              "      <th></th>\n",
              "      <th>Date(UTC)</th>\n",
              "      <th>UnixTimeStamp</th>\n",
              "      <th>Value</th>\n",
              "    </tr>\n",
              "  </thead>\n",
              "  <tbody>\n",
              "    <tr>\n",
              "      <th>0</th>\n",
              "      <td>4/2/2017</td>\n",
              "      <td>1491091200</td>\n",
              "      <td>48.55</td>\n",
              "    </tr>\n",
              "    <tr>\n",
              "      <th>1</th>\n",
              "      <td>4/3/2017</td>\n",
              "      <td>1491177600</td>\n",
              "      <td>44.13</td>\n",
              "    </tr>\n",
              "    <tr>\n",
              "      <th>2</th>\n",
              "      <td>4/4/2017</td>\n",
              "      <td>1491264000</td>\n",
              "      <td>44.43</td>\n",
              "    </tr>\n",
              "    <tr>\n",
              "      <th>3</th>\n",
              "      <td>4/5/2017</td>\n",
              "      <td>1491350400</td>\n",
              "      <td>44.90</td>\n",
              "    </tr>\n",
              "    <tr>\n",
              "      <th>4</th>\n",
              "      <td>4/6/2017</td>\n",
              "      <td>1491436800</td>\n",
              "      <td>43.23</td>\n",
              "    </tr>\n",
              "  </tbody>\n",
              "</table>\n",
              "</div>"
            ],
            "text/plain": [
              "  Date(UTC)  UnixTimeStamp  Value\n",
              "0  4/2/2017     1491091200  48.55\n",
              "1  4/3/2017     1491177600  44.13\n",
              "2  4/4/2017     1491264000  44.43\n",
              "3  4/5/2017     1491350400  44.90\n",
              "4  4/6/2017     1491436800  43.23"
            ]
          },
          "metadata": {},
          "execution_count": 33
        }
      ]
    },
    {
      "cell_type": "markdown",
      "metadata": {
        "id": "p4V5zbUk9ztX"
      },
      "source": [
        "Since the `parse_dates` attribute didn't work, we'll use the `UnixTimeStamp` column. The `pandas` module has a `to_datetime` function that converts Unix timestamps to Datetime objects automatically."
      ]
    },
    {
      "cell_type": "code",
      "metadata": {
        "colab": {
          "base_uri": "https://localhost:8080/"
        },
        "id": "Ax_2zCYw-BBT",
        "outputId": "48466049-5058-4fdd-b584-42a37d1d7cd4"
      },
      "source": [
        "pd.to_datetime(eth['UnixTimeStamp']).head()"
      ],
      "execution_count": 34,
      "outputs": [
        {
          "output_type": "execute_result",
          "data": {
            "text/plain": [
              "0   1970-01-01 00:00:01.491091200\n",
              "1   1970-01-01 00:00:01.491177600\n",
              "2   1970-01-01 00:00:01.491264000\n",
              "3   1970-01-01 00:00:01.491350400\n",
              "4   1970-01-01 00:00:01.491436800\n",
              "Name: UnixTimeStamp, dtype: datetime64[ns]"
            ]
          },
          "metadata": {},
          "execution_count": 34
        }
      ]
    },
    {
      "cell_type": "markdown",
      "metadata": {
        "id": "P0X5qLgd-xcG"
      },
      "source": [
        "To match both columns of eth and bitcoin data and we'll need to use the same index."
      ]
    },
    {
      "cell_type": "code",
      "metadata": {
        "colab": {
          "base_uri": "https://localhost:8080/",
          "height": 235
        },
        "id": "fQYCvrZw-Ltc",
        "outputId": "4a3a74fa-6919-4b61-f837-22a142fd49f9"
      },
      "source": [
        "df.head()"
      ],
      "execution_count": 35,
      "outputs": [
        {
          "output_type": "execute_result",
          "data": {
            "text/html": [
              "<div>\n",
              "<style scoped>\n",
              "    .dataframe tbody tr th:only-of-type {\n",
              "        vertical-align: middle;\n",
              "    }\n",
              "\n",
              "    .dataframe tbody tr th {\n",
              "        vertical-align: top;\n",
              "    }\n",
              "\n",
              "    .dataframe thead th {\n",
              "        text-align: right;\n",
              "    }\n",
              "</style>\n",
              "<table border=\"1\" class=\"dataframe\">\n",
              "  <thead>\n",
              "    <tr style=\"text-align: right;\">\n",
              "      <th></th>\n",
              "      <th>Price</th>\n",
              "    </tr>\n",
              "    <tr>\n",
              "      <th>Timestamp</th>\n",
              "      <th></th>\n",
              "    </tr>\n",
              "  </thead>\n",
              "  <tbody>\n",
              "    <tr>\n",
              "      <th>2017-04-02</th>\n",
              "      <td>1099.169125</td>\n",
              "    </tr>\n",
              "    <tr>\n",
              "      <th>2017-04-03</th>\n",
              "      <td>1141.813000</td>\n",
              "    </tr>\n",
              "    <tr>\n",
              "      <th>2017-04-04</th>\n",
              "      <td>1141.600363</td>\n",
              "    </tr>\n",
              "    <tr>\n",
              "      <th>2017-04-05</th>\n",
              "      <td>1133.079314</td>\n",
              "    </tr>\n",
              "    <tr>\n",
              "      <th>2017-04-06</th>\n",
              "      <td>1196.307937</td>\n",
              "    </tr>\n",
              "  </tbody>\n",
              "</table>\n",
              "</div>"
            ],
            "text/plain": [
              "                  Price\n",
              "Timestamp              \n",
              "2017-04-02  1099.169125\n",
              "2017-04-03  1141.813000\n",
              "2017-04-04  1141.600363\n",
              "2017-04-05  1133.079314\n",
              "2017-04-06  1196.307937"
            ]
          },
          "metadata": {},
          "execution_count": 35
        }
      ]
    },
    {
      "cell_type": "markdown",
      "metadata": {
        "id": "cxb7CkNv_BXf"
      },
      "source": [
        "Since the index of the `df` containing Bitcoin prices, is \"per day\", we could either, remove the precision of `UnixTimeStamp` or attempt to parse the `Date(UTC)`."
      ]
    },
    {
      "cell_type": "code",
      "metadata": {
        "colab": {
          "base_uri": "https://localhost:8080/"
        },
        "id": "kEm-uH1f-1WX",
        "outputId": "a57b54f3-57bf-4654-ee13-47133108a59f"
      },
      "source": [
        "# string parsing the Date(UTC)\n",
        "\n",
        "pd.to_datetime(eth['Date(UTC)']).head()"
      ],
      "execution_count": 36,
      "outputs": [
        {
          "output_type": "execute_result",
          "data": {
            "text/plain": [
              "0   2017-04-02\n",
              "1   2017-04-03\n",
              "2   2017-04-04\n",
              "3   2017-04-05\n",
              "4   2017-04-06\n",
              "Name: Date(UTC), dtype: datetime64[ns]"
            ]
          },
          "metadata": {},
          "execution_count": 36
        }
      ]
    },
    {
      "cell_type": "markdown",
      "metadata": {
        "id": "y1kYCPLsAh6r"
      },
      "source": [
        "That seems to work fine! Why isn't it then parsing the `Date(UTC)` column? \n",
        "<br>The `parse_dates=True` parameter will instruct pandas to parse the index of the `DataFrame`. If you want to parse any other column, you must explicitly pass the column position or name"
      ]
    },
    {
      "cell_type": "code",
      "metadata": {
        "colab": {
          "base_uri": "https://localhost:8080/",
          "height": 204
        },
        "id": "70dLt5OIBFtG",
        "outputId": "71373bdb-a4d4-454d-f3a5-9ddcd211c411"
      },
      "source": [
        "pd.read_csv('/content/eth-price.csv', parse_dates=[0]).head()"
      ],
      "execution_count": 37,
      "outputs": [
        {
          "output_type": "execute_result",
          "data": {
            "text/html": [
              "<div>\n",
              "<style scoped>\n",
              "    .dataframe tbody tr th:only-of-type {\n",
              "        vertical-align: middle;\n",
              "    }\n",
              "\n",
              "    .dataframe tbody tr th {\n",
              "        vertical-align: top;\n",
              "    }\n",
              "\n",
              "    .dataframe thead th {\n",
              "        text-align: right;\n",
              "    }\n",
              "</style>\n",
              "<table border=\"1\" class=\"dataframe\">\n",
              "  <thead>\n",
              "    <tr style=\"text-align: right;\">\n",
              "      <th></th>\n",
              "      <th>Date(UTC)</th>\n",
              "      <th>UnixTimeStamp</th>\n",
              "      <th>Value</th>\n",
              "    </tr>\n",
              "  </thead>\n",
              "  <tbody>\n",
              "    <tr>\n",
              "      <th>0</th>\n",
              "      <td>2017-04-02</td>\n",
              "      <td>1491091200</td>\n",
              "      <td>48.55</td>\n",
              "    </tr>\n",
              "    <tr>\n",
              "      <th>1</th>\n",
              "      <td>2017-04-03</td>\n",
              "      <td>1491177600</td>\n",
              "      <td>44.13</td>\n",
              "    </tr>\n",
              "    <tr>\n",
              "      <th>2</th>\n",
              "      <td>2017-04-04</td>\n",
              "      <td>1491264000</td>\n",
              "      <td>44.43</td>\n",
              "    </tr>\n",
              "    <tr>\n",
              "      <th>3</th>\n",
              "      <td>2017-04-05</td>\n",
              "      <td>1491350400</td>\n",
              "      <td>44.90</td>\n",
              "    </tr>\n",
              "    <tr>\n",
              "      <th>4</th>\n",
              "      <td>2017-04-06</td>\n",
              "      <td>1491436800</td>\n",
              "      <td>43.23</td>\n",
              "    </tr>\n",
              "  </tbody>\n",
              "</table>\n",
              "</div>"
            ],
            "text/plain": [
              "   Date(UTC)  UnixTimeStamp  Value\n",
              "0 2017-04-02     1491091200  48.55\n",
              "1 2017-04-03     1491177600  44.13\n",
              "2 2017-04-04     1491264000  44.43\n",
              "3 2017-04-05     1491350400  44.90\n",
              "4 2017-04-06     1491436800  43.23"
            ]
          },
          "metadata": {},
          "execution_count": 37
        }
      ]
    },
    {
      "cell_type": "markdown",
      "metadata": {
        "id": "9jTgisOgCqez"
      },
      "source": [
        "**Putting everything together**"
      ]
    },
    {
      "cell_type": "code",
      "metadata": {
        "colab": {
          "base_uri": "https://localhost:8080/",
          "height": 235
        },
        "id": "allr1cM8B8b4",
        "outputId": "66694f69-6da5-4f27-88cd-d5a711482096"
      },
      "source": [
        "eth= pd.read_csv('/content/eth-price.csv', parse_dates=True, index_col=0)\n",
        "eth.head()"
      ],
      "execution_count": 38,
      "outputs": [
        {
          "output_type": "execute_result",
          "data": {
            "text/html": [
              "<div>\n",
              "<style scoped>\n",
              "    .dataframe tbody tr th:only-of-type {\n",
              "        vertical-align: middle;\n",
              "    }\n",
              "\n",
              "    .dataframe tbody tr th {\n",
              "        vertical-align: top;\n",
              "    }\n",
              "\n",
              "    .dataframe thead th {\n",
              "        text-align: right;\n",
              "    }\n",
              "</style>\n",
              "<table border=\"1\" class=\"dataframe\">\n",
              "  <thead>\n",
              "    <tr style=\"text-align: right;\">\n",
              "      <th></th>\n",
              "      <th>UnixTimeStamp</th>\n",
              "      <th>Value</th>\n",
              "    </tr>\n",
              "    <tr>\n",
              "      <th>Date(UTC)</th>\n",
              "      <th></th>\n",
              "      <th></th>\n",
              "    </tr>\n",
              "  </thead>\n",
              "  <tbody>\n",
              "    <tr>\n",
              "      <th>2017-04-02</th>\n",
              "      <td>1491091200</td>\n",
              "      <td>48.55</td>\n",
              "    </tr>\n",
              "    <tr>\n",
              "      <th>2017-04-03</th>\n",
              "      <td>1491177600</td>\n",
              "      <td>44.13</td>\n",
              "    </tr>\n",
              "    <tr>\n",
              "      <th>2017-04-04</th>\n",
              "      <td>1491264000</td>\n",
              "      <td>44.43</td>\n",
              "    </tr>\n",
              "    <tr>\n",
              "      <th>2017-04-05</th>\n",
              "      <td>1491350400</td>\n",
              "      <td>44.90</td>\n",
              "    </tr>\n",
              "    <tr>\n",
              "      <th>2017-04-06</th>\n",
              "      <td>1491436800</td>\n",
              "      <td>43.23</td>\n",
              "    </tr>\n",
              "  </tbody>\n",
              "</table>\n",
              "</div>"
            ],
            "text/plain": [
              "            UnixTimeStamp  Value\n",
              "Date(UTC)                       \n",
              "2017-04-02     1491091200  48.55\n",
              "2017-04-03     1491177600  44.13\n",
              "2017-04-04     1491264000  44.43\n",
              "2017-04-05     1491350400  44.90\n",
              "2017-04-06     1491436800  43.23"
            ]
          },
          "metadata": {},
          "execution_count": 38
        }
      ]
    },
    {
      "cell_type": "code",
      "metadata": {
        "colab": {
          "base_uri": "https://localhost:8080/"
        },
        "id": "RjKGPV67C-RO",
        "outputId": "ec4c3402-bf7b-41ad-9086-ec046f3845b1"
      },
      "source": [
        "eth.info()"
      ],
      "execution_count": 39,
      "outputs": [
        {
          "output_type": "stream",
          "name": "stdout",
          "text": [
            "<class 'pandas.core.frame.DataFrame'>\n",
            "DatetimeIndex: 362 entries, 2017-04-02 to 2018-04-01\n",
            "Data columns (total 2 columns):\n",
            " #   Column         Non-Null Count  Dtype  \n",
            "---  ------         --------------  -----  \n",
            " 0   UnixTimeStamp  362 non-null    int64  \n",
            " 1   Value          362 non-null    float64\n",
            "dtypes: float64(1), int64(1)\n",
            "memory usage: 8.5 KB\n"
          ]
        }
      ]
    },
    {
      "cell_type": "markdown",
      "metadata": {
        "id": "GzfGBGeBDRsI"
      },
      "source": [
        "Combining both `DataFrame`s into one. Both have the same index, so aligning both prices will be easy. "
      ]
    },
    {
      "cell_type": "code",
      "metadata": {
        "colab": {
          "base_uri": "https://localhost:8080/",
          "height": 218
        },
        "id": "PDDXinsXDmCp",
        "outputId": "da19518c-30a4-4d04-af1a-1cf3c89aab8f"
      },
      "source": [
        "# Creating an empty DataFrame with the index from Bitcoin prices\n",
        "\n",
        "prices= pd.DataFrame(index= df.index)\n",
        "prices.head()"
      ],
      "execution_count": 40,
      "outputs": [
        {
          "output_type": "execute_result",
          "data": {
            "text/html": [
              "<div>\n",
              "<style scoped>\n",
              "    .dataframe tbody tr th:only-of-type {\n",
              "        vertical-align: middle;\n",
              "    }\n",
              "\n",
              "    .dataframe tbody tr th {\n",
              "        vertical-align: top;\n",
              "    }\n",
              "\n",
              "    .dataframe thead th {\n",
              "        text-align: right;\n",
              "    }\n",
              "</style>\n",
              "<table border=\"1\" class=\"dataframe\">\n",
              "  <thead>\n",
              "    <tr style=\"text-align: right;\">\n",
              "      <th></th>\n",
              "    </tr>\n",
              "    <tr>\n",
              "      <th>Timestamp</th>\n",
              "    </tr>\n",
              "  </thead>\n",
              "  <tbody>\n",
              "    <tr>\n",
              "      <th>2017-04-02</th>\n",
              "    </tr>\n",
              "    <tr>\n",
              "      <th>2017-04-03</th>\n",
              "    </tr>\n",
              "    <tr>\n",
              "      <th>2017-04-04</th>\n",
              "    </tr>\n",
              "    <tr>\n",
              "      <th>2017-04-05</th>\n",
              "    </tr>\n",
              "    <tr>\n",
              "      <th>2017-04-06</th>\n",
              "    </tr>\n",
              "  </tbody>\n",
              "</table>\n",
              "</div>"
            ],
            "text/plain": [
              "Empty DataFrame\n",
              "Columns: []\n",
              "Index: [2017-04-02 00:00:00, 2017-04-03 00:00:00, 2017-04-04 00:00:00, 2017-04-05 00:00:00, 2017-04-06 00:00:00]"
            ]
          },
          "metadata": {},
          "execution_count": 40
        }
      ]
    },
    {
      "cell_type": "code",
      "metadata": {
        "id": "Sybs1mYXDu1V"
      },
      "source": [
        "# setting columns from other DataFrames\n",
        "\n",
        "prices['Bitcoin']= df['Price']\n",
        "prices['Ether']= eth['Value']"
      ],
      "execution_count": 41,
      "outputs": []
    },
    {
      "cell_type": "code",
      "metadata": {
        "colab": {
          "base_uri": "https://localhost:8080/",
          "height": 235
        },
        "id": "QInur2S_EHow",
        "outputId": "6468deca-35c9-4f73-d48f-1a28e68229c8"
      },
      "source": [
        "prices.head()"
      ],
      "execution_count": 42,
      "outputs": [
        {
          "output_type": "execute_result",
          "data": {
            "text/html": [
              "<div>\n",
              "<style scoped>\n",
              "    .dataframe tbody tr th:only-of-type {\n",
              "        vertical-align: middle;\n",
              "    }\n",
              "\n",
              "    .dataframe tbody tr th {\n",
              "        vertical-align: top;\n",
              "    }\n",
              "\n",
              "    .dataframe thead th {\n",
              "        text-align: right;\n",
              "    }\n",
              "</style>\n",
              "<table border=\"1\" class=\"dataframe\">\n",
              "  <thead>\n",
              "    <tr style=\"text-align: right;\">\n",
              "      <th></th>\n",
              "      <th>Bitcoin</th>\n",
              "      <th>Ether</th>\n",
              "    </tr>\n",
              "    <tr>\n",
              "      <th>Timestamp</th>\n",
              "      <th></th>\n",
              "      <th></th>\n",
              "    </tr>\n",
              "  </thead>\n",
              "  <tbody>\n",
              "    <tr>\n",
              "      <th>2017-04-02</th>\n",
              "      <td>1099.169125</td>\n",
              "      <td>48.55</td>\n",
              "    </tr>\n",
              "    <tr>\n",
              "      <th>2017-04-03</th>\n",
              "      <td>1141.813000</td>\n",
              "      <td>44.13</td>\n",
              "    </tr>\n",
              "    <tr>\n",
              "      <th>2017-04-04</th>\n",
              "      <td>1141.600363</td>\n",
              "      <td>44.43</td>\n",
              "    </tr>\n",
              "    <tr>\n",
              "      <th>2017-04-05</th>\n",
              "      <td>1133.079314</td>\n",
              "      <td>44.90</td>\n",
              "    </tr>\n",
              "    <tr>\n",
              "      <th>2017-04-06</th>\n",
              "      <td>1196.307937</td>\n",
              "      <td>43.23</td>\n",
              "    </tr>\n",
              "  </tbody>\n",
              "</table>\n",
              "</div>"
            ],
            "text/plain": [
              "                Bitcoin  Ether\n",
              "Timestamp                     \n",
              "2017-04-02  1099.169125  48.55\n",
              "2017-04-03  1141.813000  44.13\n",
              "2017-04-04  1141.600363  44.43\n",
              "2017-04-05  1133.079314  44.90\n",
              "2017-04-06  1196.307937  43.23"
            ]
          },
          "metadata": {},
          "execution_count": 42
        }
      ]
    },
    {
      "cell_type": "code",
      "metadata": {
        "colab": {
          "base_uri": "https://localhost:8080/",
          "height": 417
        },
        "id": "gLOJ3159EJw-",
        "outputId": "68d0ee99-a71a-4eb1-f0db-15bdd52a3a52"
      },
      "source": [
        "# plotting both values\n",
        "\n",
        "prices.plot(figsize=(12, 6))"
      ],
      "execution_count": 43,
      "outputs": [
        {
          "output_type": "execute_result",
          "data": {
            "text/plain": [
              "<matplotlib.axes._subplots.AxesSubplot at 0x7fb0859b1090>"
            ]
          },
          "metadata": {},
          "execution_count": 43
        },
        {
          "output_type": "display_data",
          "data": {
            "image/png": "[encoded data removed]",
            "text/plain": [
              "<Figure size 864x432 with 1 Axes>"
            ]
          },
          "metadata": {
            "needs_background": "light"
          }
        }
      ]
    },
    {
      "cell_type": "code",
      "metadata": {
        "colab": {
          "base_uri": "https://localhost:8080/",
          "height": 440
        },
        "id": "BtCct8uEEM6x",
        "outputId": "c19c02f1-e1cb-4d6e-f53a-cf5bd55c0e5f"
      },
      "source": [
        "# zooming into the tiny gap using indexing\n",
        "\n",
        "prices.loc['2017-12-01':'2018-01-01'].plot(figsize=(12,6))"
      ],
      "execution_count": 44,
      "outputs": [
        {
          "output_type": "execute_result",
          "data": {
            "text/plain": [
              "<matplotlib.axes._subplots.AxesSubplot at 0x7fb0859b16d0>"
            ]
          },
          "metadata": {},
          "execution_count": 44
        },
        {
          "output_type": "display_data",
          "data": {
            "image/png": "[encoded data removed]",
            "text/plain": [
              "<Figure size 864x432 with 1 Axes>"
            ]
          },
          "metadata": {
            "needs_background": "light"
          }
        }
      ]
    },
    {
      "cell_type": "code",
      "metadata": {
        "id": "pAypkVQLEiH7"
      },
      "source": [
        ""
      ],
      "execution_count": 44,
      "outputs": []
    }
  ]
}