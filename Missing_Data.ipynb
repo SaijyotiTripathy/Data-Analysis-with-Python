{
  "nbformat": 4,
  "nbformat_minor": 0,
  "metadata": {
    "colab": {
      "name": "Missing Data.ipynb",
      "provenance": [],
      "authorship_tag": "ABX9TyP1OI/t5c0ltGO3fq8MDnZQ"
    },
    "kernelspec": {
      "name": "python3",
      "display_name": "Python 3"
    },
    "language_info": {
      "name": "python"
    }
  },
  "cells": [
    {
      "cell_type": "code",
      "metadata": {
        "id": "02b6bEJwi_gD"
      },
      "source": [
        "import numpy as np\n",
        "import pandas as pd"
      ],
      "execution_count": 1,
      "outputs": []
    },
    {
      "cell_type": "markdown",
      "metadata": {
        "id": "78qfoWHtjiDK"
      },
      "source": [
        "What does \"missing data\" mean? What is a missing value? It depends on the origin of the data and the context it was generated. For example, for a survey, a _`Salary`_ field with an empty value, or a number 0, or an invalid value (a string for example) can be considered \"missing data\". These concepts are related to the values that Python will consider \"Falsy\"."
      ]
    },
    {
      "cell_type": "code",
      "metadata": {
        "id": "ozIW3TPpjFcX"
      },
      "source": [
        "falsy_values= (0, False, None, '', [], {})"
      ],
      "execution_count": 2,
      "outputs": []
    },
    {
      "cell_type": "markdown",
      "metadata": {
        "id": "8RLbuMGpj-m-"
      },
      "source": [
        "For Python, all the values above are considered \"falsy\""
      ]
    },
    {
      "cell_type": "code",
      "metadata": {
        "colab": {
          "base_uri": "https://localhost:8080/"
        },
        "id": "CBL50X1gjyIk",
        "outputId": "e258b407-ea66-4ea4-b507-73031add7d44"
      },
      "source": [
        "any(falsy_values)"
      ],
      "execution_count": 3,
      "outputs": [
        {
          "output_type": "execute_result",
          "data": {
            "text/plain": [
              "False"
            ]
          },
          "metadata": {},
          "execution_count": 3
        }
      ]
    },
    {
      "cell_type": "markdown",
      "metadata": {
        "id": "TGyqnpYskJdY"
      },
      "source": [
        "Numpy has a special \"nullable\" value for numbers which is `np.nan`. It's _NaN_: \"Not a number\". The `np.nan` value is kind of a virus. Everything that it touches becomes `np.nan`."
      ]
    },
    {
      "cell_type": "code",
      "metadata": {
        "colab": {
          "base_uri": "https://localhost:8080/"
        },
        "id": "1WcOaHExj1ot",
        "outputId": "6af24ccb-4839-4a1e-894e-beb3fbcfa620"
      },
      "source": [
        "np.nan"
      ],
      "execution_count": 4,
      "outputs": [
        {
          "output_type": "execute_result",
          "data": {
            "text/plain": [
              "nan"
            ]
          },
          "metadata": {},
          "execution_count": 4
        }
      ]
    },
    {
      "cell_type": "code",
      "metadata": {
        "colab": {
          "base_uri": "https://localhost:8080/"
        },
        "id": "SS-_gdAZkTEm",
        "outputId": "5c21ae19-1ca8-43ab-e004-eaf104e3f3ca"
      },
      "source": [
        "3 + np.nan"
      ],
      "execution_count": 5,
      "outputs": [
        {
          "output_type": "execute_result",
          "data": {
            "text/plain": [
              "nan"
            ]
          },
          "metadata": {},
          "execution_count": 5
        }
      ]
    },
    {
      "cell_type": "code",
      "metadata": {
        "id": "NBdJj-NPkWgQ"
      },
      "source": [
        "a= np.array([1, 2, np.nan, 7])"
      ],
      "execution_count": 6,
      "outputs": []
    },
    {
      "cell_type": "code",
      "metadata": {
        "colab": {
          "base_uri": "https://localhost:8080/"
        },
        "id": "Ya83XY4tkbJI",
        "outputId": "4a2c83f5-d4f6-4730-9c4d-d32d14637d39"
      },
      "source": [
        "a.sum()"
      ],
      "execution_count": 7,
      "outputs": [
        {
          "output_type": "execute_result",
          "data": {
            "text/plain": [
              "nan"
            ]
          },
          "metadata": {},
          "execution_count": 7
        }
      ]
    },
    {
      "cell_type": "code",
      "metadata": {
        "colab": {
          "base_uri": "https://localhost:8080/"
        },
        "id": "dmJLNTXskchc",
        "outputId": "dca3ef9f-1b8d-4ce3-b170-fca990dbddae"
      },
      "source": [
        "a.mean()"
      ],
      "execution_count": 8,
      "outputs": [
        {
          "output_type": "execute_result",
          "data": {
            "text/plain": [
              "nan"
            ]
          },
          "metadata": {},
          "execution_count": 8
        }
      ]
    },
    {
      "cell_type": "markdown",
      "metadata": {
        "id": "QBPiiGfrk5PQ"
      },
      "source": [
        "`np.nan` is better than regular `None` values, which in the previous examples would have raised an exception."
      ]
    },
    {
      "cell_type": "code",
      "metadata": {
        "colab": {
          "base_uri": "https://localhost:8080/",
          "height": 163
        },
        "id": "zzCMMDvHkdf4",
        "outputId": "b02d5814-991a-4d04-e006-5e83a2ebe2fb"
      },
      "source": [
        "3 + None"
      ],
      "execution_count": 9,
      "outputs": [
        {
          "output_type": "error",
          "ename": "TypeError",
          "evalue": "ignored",
          "traceback": [
            "\u001b[0;31m---------------------------------------------------------------------------\u001b[0m",
            "\u001b[0;31mTypeError\u001b[0m                                 Traceback (most recent call last)",
            "\u001b[0;32m<ipython-input-9-8e4e7b6bbb3a>\u001b[0m in \u001b[0;36m<module>\u001b[0;34m()\u001b[0m\n\u001b[0;32m----> 1\u001b[0;31m \u001b[0;36m3\u001b[0m \u001b[0;34m+\u001b[0m \u001b[0;32mNone\u001b[0m\u001b[0;34m\u001b[0m\u001b[0;34m\u001b[0m\u001b[0m\n\u001b[0m",
            "\u001b[0;31mTypeError\u001b[0m: unsupported operand type(s) for +: 'int' and 'NoneType'"
          ]
        }
      ]
    },
    {
      "cell_type": "markdown",
      "metadata": {
        "id": "LPOAQjtElEl3"
      },
      "source": [
        "For a numeric array, the `None` value is replaced by `np.nan` ."
      ]
    },
    {
      "cell_type": "code",
      "metadata": {
        "id": "hkM6T2UBk28B"
      },
      "source": [
        "a= np.array([1, 2, np.nan, None, 7], dtype='float')"
      ],
      "execution_count": 10,
      "outputs": []
    },
    {
      "cell_type": "code",
      "metadata": {
        "colab": {
          "base_uri": "https://localhost:8080/"
        },
        "id": "nxPXACuflS4i",
        "outputId": "348c4770-5113-449b-dce9-5eeed20c9036"
      },
      "source": [
        "a"
      ],
      "execution_count": 11,
      "outputs": [
        {
          "output_type": "execute_result",
          "data": {
            "text/plain": [
              "array([ 1.,  2., nan, nan,  7.])"
            ]
          },
          "metadata": {},
          "execution_count": 11
        }
      ]
    },
    {
      "cell_type": "markdown",
      "metadata": {
        "id": "dWIa-VYClfuG"
      },
      "source": [
        "Numpy also supports an \"infinite\" type which also behaves as a virus."
      ]
    },
    {
      "cell_type": "code",
      "metadata": {
        "colab": {
          "base_uri": "https://localhost:8080/"
        },
        "id": "QiA6VzhWlXvP",
        "outputId": "3495ccc8-5f6a-4f2f-ba2f-e44eb13e1cf2"
      },
      "source": [
        "np.inf"
      ],
      "execution_count": 12,
      "outputs": [
        {
          "output_type": "execute_result",
          "data": {
            "text/plain": [
              "inf"
            ]
          },
          "metadata": {},
          "execution_count": 12
        }
      ]
    },
    {
      "cell_type": "code",
      "metadata": {
        "colab": {
          "base_uri": "https://localhost:8080/"
        },
        "id": "W5eOD6m1lqN_",
        "outputId": "e3f5de67-4bbc-47cc-ed2c-718b16632a1f"
      },
      "source": [
        "3 + np.inf"
      ],
      "execution_count": 13,
      "outputs": [
        {
          "output_type": "execute_result",
          "data": {
            "text/plain": [
              "inf"
            ]
          },
          "metadata": {},
          "execution_count": 13
        }
      ]
    },
    {
      "cell_type": "code",
      "metadata": {
        "colab": {
          "base_uri": "https://localhost:8080/"
        },
        "id": "kuqO-97bl-lX",
        "outputId": "ea1aa141-dfbe-484e-bd14-df4530a48e54"
      },
      "source": [
        "np.inf / 3"
      ],
      "execution_count": 14,
      "outputs": [
        {
          "output_type": "execute_result",
          "data": {
            "text/plain": [
              "inf"
            ]
          },
          "metadata": {},
          "execution_count": 14
        }
      ]
    },
    {
      "cell_type": "code",
      "metadata": {
        "colab": {
          "base_uri": "https://localhost:8080/"
        },
        "id": "FrP0-1lWmA9Z",
        "outputId": "6d92e974-f214-4ec2-e463-8804d184231a"
      },
      "source": [
        "np.inf / np.inf"
      ],
      "execution_count": 15,
      "outputs": [
        {
          "output_type": "execute_result",
          "data": {
            "text/plain": [
              "nan"
            ]
          },
          "metadata": {},
          "execution_count": 15
        }
      ]
    },
    {
      "cell_type": "code",
      "metadata": {
        "id": "z6J_3QIPmC4J"
      },
      "source": [
        "b= np.array([2, 4, np.inf, np.nan, 7], dtype=np.float)"
      ],
      "execution_count": 16,
      "outputs": []
    },
    {
      "cell_type": "code",
      "metadata": {
        "colab": {
          "base_uri": "https://localhost:8080/"
        },
        "id": "xlg5bTiTmMld",
        "outputId": "d4c8e17e-fcf4-4c9e-e3d4-aa1ec85bf9b8"
      },
      "source": [
        "b.sum()"
      ],
      "execution_count": 17,
      "outputs": [
        {
          "output_type": "execute_result",
          "data": {
            "text/plain": [
              "nan"
            ]
          },
          "metadata": {},
          "execution_count": 17
        }
      ]
    },
    {
      "cell_type": "markdown",
      "metadata": {
        "id": "_LkoKiAtmPGN"
      },
      "source": [
        "### **Checking for `nan` or `inf`**"
      ]
    },
    {
      "cell_type": "markdown",
      "metadata": {
        "id": "Jc3eUOTGmURN"
      },
      "source": [
        "There are two functions : `np.isnan` and `np.isinf` that will check for nan and infinite values."
      ]
    },
    {
      "cell_type": "code",
      "metadata": {
        "colab": {
          "base_uri": "https://localhost:8080/"
        },
        "id": "VGCFGgvPmN6D",
        "outputId": "a662d7f5-27d6-4e48-ea8b-7f9f9f4b3a14"
      },
      "source": [
        "np.isnan(np.nan)"
      ],
      "execution_count": 18,
      "outputs": [
        {
          "output_type": "execute_result",
          "data": {
            "text/plain": [
              "True"
            ]
          },
          "metadata": {},
          "execution_count": 18
        }
      ]
    },
    {
      "cell_type": "code",
      "metadata": {
        "colab": {
          "base_uri": "https://localhost:8080/"
        },
        "id": "sFwHjjkkmjQn",
        "outputId": "e2046fc5-4cd6-4242-f026-780cd773d8de"
      },
      "source": [
        "np.isinf(np.inf)"
      ],
      "execution_count": 19,
      "outputs": [
        {
          "output_type": "execute_result",
          "data": {
            "text/plain": [
              "True"
            ]
          },
          "metadata": {},
          "execution_count": 19
        }
      ]
    },
    {
      "cell_type": "code",
      "metadata": {
        "colab": {
          "base_uri": "https://localhost:8080/"
        },
        "id": "PDsMeplBnC87",
        "outputId": "87e02834-3d17-453b-e708-9421b72d2df9"
      },
      "source": [
        "np.isnan(np.array([1, 4, np.nan, np.inf, 7]))"
      ],
      "execution_count": 20,
      "outputs": [
        {
          "output_type": "execute_result",
          "data": {
            "text/plain": [
              "array([False, False,  True, False, False])"
            ]
          },
          "metadata": {},
          "execution_count": 20
        }
      ]
    },
    {
      "cell_type": "code",
      "metadata": {
        "colab": {
          "base_uri": "https://localhost:8080/"
        },
        "id": "PRxCfvGonJJr",
        "outputId": "4302037c-d622-49cb-ccd1-6375aee1e847"
      },
      "source": [
        "np.isinf(np.array([1, 4, np.nan, np.inf, 7]))"
      ],
      "execution_count": 21,
      "outputs": [
        {
          "output_type": "execute_result",
          "data": {
            "text/plain": [
              "array([False, False, False,  True, False])"
            ]
          },
          "metadata": {},
          "execution_count": 21
        }
      ]
    },
    {
      "cell_type": "markdown",
      "metadata": {
        "id": "ccgzpkeOmww_"
      },
      "source": [
        "And the joint operation can be performed with `np.isfinite`."
      ]
    },
    {
      "cell_type": "code",
      "metadata": {
        "colab": {
          "base_uri": "https://localhost:8080/"
        },
        "id": "U-curY_EmlGk",
        "outputId": "6ffe5ec2-f322-486d-8de0-4ad5e9328919"
      },
      "source": [
        "np.isfinite(np.nan)"
      ],
      "execution_count": 22,
      "outputs": [
        {
          "output_type": "execute_result",
          "data": {
            "text/plain": [
              "False"
            ]
          },
          "metadata": {},
          "execution_count": 22
        }
      ]
    },
    {
      "cell_type": "code",
      "metadata": {
        "colab": {
          "base_uri": "https://localhost:8080/"
        },
        "id": "6YPv8BAcm5we",
        "outputId": "520f0edc-8785-4e61-ea07-ad9ebed86475"
      },
      "source": [
        "np.isfinite(np.inf)"
      ],
      "execution_count": 23,
      "outputs": [
        {
          "output_type": "execute_result",
          "data": {
            "text/plain": [
              "False"
            ]
          },
          "metadata": {},
          "execution_count": 23
        }
      ]
    },
    {
      "cell_type": "code",
      "metadata": {
        "colab": {
          "base_uri": "https://localhost:8080/"
        },
        "id": "VEbx7uQsm-N5",
        "outputId": "7448ec4c-2d07-406c-b84f-f198fffbcd7e"
      },
      "source": [
        "np.isfinite(np.array([3, 4, np.inf, np.nan, 9]))"
      ],
      "execution_count": 24,
      "outputs": [
        {
          "output_type": "execute_result",
          "data": {
            "text/plain": [
              "array([ True,  True, False, False,  True])"
            ]
          },
          "metadata": {},
          "execution_count": 24
        }
      ]
    },
    {
      "cell_type": "markdown",
      "metadata": {
        "id": "GW_YvUARnY1W"
      },
      "source": [
        "Note : It's not so common to find infinite values. "
      ]
    },
    {
      "cell_type": "markdown",
      "metadata": {
        "id": "HxxmvwJWn4rz"
      },
      "source": [
        "### **Filtering nan values**"
      ]
    },
    {
      "cell_type": "markdown",
      "metadata": {
        "id": "bHnKNIWEpY9t"
      },
      "source": [
        "Whenever you're trying to perform an operation with a Numpy array and you know there might be missing values, you'll need to filter them out before proceeding, to avoid `nan` propagation. We'll use a combination of the previous `np.isnan` + boolean arrays for this purpose."
      ]
    },
    {
      "cell_type": "code",
      "metadata": {
        "id": "oODMhbG2nU9z"
      },
      "source": [
        "a= np.array([1, 4, np.nan, np.nan, 7])"
      ],
      "execution_count": 25,
      "outputs": []
    },
    {
      "cell_type": "code",
      "metadata": {
        "colab": {
          "base_uri": "https://localhost:8080/"
        },
        "id": "9zLVAjRdp4sT",
        "outputId": "5faa6cb3-8473-4ec5-ccdd-ca83f81fd5da"
      },
      "source": [
        "a[~np.isnan(a)]"
      ],
      "execution_count": 26,
      "outputs": [
        {
          "output_type": "execute_result",
          "data": {
            "text/plain": [
              "array([1., 4., 7.])"
            ]
          },
          "metadata": {},
          "execution_count": 26
        }
      ]
    },
    {
      "cell_type": "markdown",
      "metadata": {
        "id": "ROhYJ2zHqR-s"
      },
      "source": [
        "which is equivalent to :"
      ]
    },
    {
      "cell_type": "code",
      "metadata": {
        "colab": {
          "base_uri": "https://localhost:8080/"
        },
        "id": "8_1SEHBXp_GE",
        "outputId": "d119e66d-0efc-4f3c-97da-4e8ea48249c1"
      },
      "source": [
        "a[np.isfinite(a)]"
      ],
      "execution_count": 27,
      "outputs": [
        {
          "output_type": "execute_result",
          "data": {
            "text/plain": [
              "array([1., 4., 7.])"
            ]
          },
          "metadata": {},
          "execution_count": 27
        }
      ]
    },
    {
      "cell_type": "code",
      "metadata": {
        "colab": {
          "base_uri": "https://localhost:8080/"
        },
        "id": "32RHjlFiqXsq",
        "outputId": "8d2f6fb0-8cd3-42e2-f513-2de8c35581f4"
      },
      "source": [
        "a[np.isfinite(a)].sum()"
      ],
      "execution_count": 28,
      "outputs": [
        {
          "output_type": "execute_result",
          "data": {
            "text/plain": [
              "12.0"
            ]
          },
          "metadata": {},
          "execution_count": 28
        }
      ]
    },
    {
      "cell_type": "code",
      "metadata": {
        "colab": {
          "base_uri": "https://localhost:8080/"
        },
        "id": "bz1mJRSwqdb7",
        "outputId": "7b304f07-9e1f-4798-e15b-9af33ede5128"
      },
      "source": [
        "a[np.isfinite(a)].mean()"
      ],
      "execution_count": 29,
      "outputs": [
        {
          "output_type": "execute_result",
          "data": {
            "text/plain": [
              "4.0"
            ]
          },
          "metadata": {},
          "execution_count": 29
        }
      ]
    }
  ]
}